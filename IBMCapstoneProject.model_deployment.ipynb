{
 "cells": [
  {
   "cell_type": "markdown",
   "metadata": {},
   "source": [
    "# Adventure Works Cycles Customer Analysis\n",
    "\n",
    "In 1998, the Adventure Works Cycles company collected a large volume of data about their existing customers, including demographic features and information about purchases they have made. The company is particularly interested in analyzing customer data to determine any apparent relationships between demographic features known about the customers and the likelihood of a customer purchasing a bike. Additionally, the analysis should endeavor to determine whether a customer's average monthly spend with the company can be predicted from known customer characteristics.\n",
    "\n",
    "In this project, we will handle three main tasks:\n",
    "\n",
    "* Explore the data and gain some insights into Adventure Works customer characteristics and purchasing behavior.\n",
    "* Build a regression model to predict customer purchasing behavior.\n",
    "\n",
    "The data consists of three files.\n",
    "\n",
    "AdvWorksCusts.csv\n",
    "Customer demographic data consisting of the following fields:\n",
    "\n",
    "* CustomerID (integer): A unique customer identifier.\n",
    "* Title (string): The customer's formal title (Mr, Mrs, Ms, Miss Dr, etc.)\n",
    "* FirstName (string): The customer's first name.\n",
    "* MiddleName (string): The customer's middle name.\n",
    "* LastName (string): The customer's last name.\n",
    "* Suffix (string): A suffix for the customer name (Jr, Sr, etc.)\n",
    "* AddressLine1 (string): The first line of the customer's home address.\n",
    "* AddressLine2 (string): The second line of the customer's home address.\n",
    "* City (string): The city where the customer lives.\n",
    "* StateProvince (string): The state or province where the customer lives.\n",
    "* CountryRegion (string): The country or region where the customer lives.\n",
    "* PostalCode (string): The postal code for the customer's address.\n",
    "* PhoneNumber (string): The customer's telephone number.\n",
    "* BirthDate (date): The customer's date of birth in the format YYYY-MM-DD.\n",
    "* Education (string): The maximum level of education achieved by the customer:\n",
    "* Partial High School\n",
    "* High School\n",
    "* Partial College\n",
    "* Bachelors\n",
    "* Graduate Degree\n",
    "* Occupation (string): The type of job in which the customer is employed:\n",
    "       Manual\n",
    "       Skilled Manual\n",
    "       Clerical\n",
    "       Management\n",
    "       Professional\n",
    "* Gender (string): The customer's gender (for example, M for male, F for female, etc.)\n",
    "* MaritalStatus (string): Whether the customer is married (M) or single (S).\n",
    "* HomeOwnerFlag (integer): A Boolean flag indicating whether the customer owns their own home (1) or not (0).\n",
    "* NumberCarsOwned (integer): The number of cars owned by the customer.\n",
    "* NumberChildrenAtHome (integer): The number of children the customer has who live at home.\n",
    "* TotalChildren (integer): The total number of children the customer has.\n",
    "* YearlyIncome (decimal): The annual income of the customer.\n",
    "\n",
    "AW_AveMonthSpend.csv\n",
    "Sales data for existing customers, consisting of the following fields:\n",
    "\n",
    "* CustomerID (integer): The unique identifier for the customer.\n",
    "* AveMonthSpend (decimal): The amount of money the customer spends with Adventure Works Cycles on average each month.\n",
    "\n",
    "AW_BikeBuyer.csv\n",
    "Sales data for existing customers, consisting of the following fields:\n",
    "\n",
    "* CustomerID (integer): The unique identifier for the customer.\n",
    "* BikeBuyer (integer): A Boolean flag indicating whether a customer has previously purchased a bike (1) or not (0)."
   ]
  },
  {
   "cell_type": "code",
   "execution_count": 1,
   "metadata": {},
   "outputs": [],
   "source": [
    "# Import the modules we need for the specified tasks\n",
    "\n",
    "import pandas as pd\n",
    "import matplotlib.pyplot as plt\n",
    "import numpy as np\n",
    "import numpy.random as nr\n",
    "import math\n",
    "from sklearn import preprocessing\n",
    "import sklearn.model_selection as ms\n",
    "from sklearn import linear_model\n",
    "import sklearn.metrics as sklm\n",
    "from sklearn.model_selection import train_test_split\n",
    "from sklearn.neighbors import KNeighborsClassifier"
   ]
  },
  {
   "cell_type": "markdown",
   "metadata": {},
   "source": [
    "# Exploring The Data"
   ]
  },
  {
   "cell_type": "code",
   "execution_count": 2,
   "metadata": {},
   "outputs": [],
   "source": [
    "# Read the files into a pandas dataframe\n",
    "\n",
    "adventure_works = pd.read_csv(\"C:/Users/user/Documents/1. E-Learning/2019 Program/FinalExam/AdvWorksCusts.csv\")\n",
    "aw_avmonthspend = pd.read_csv(\"C:/Users/user/Documents/1. E-Learning/2019 Program/FinalExam/AW_AveMonthSpend.csv\")\n",
    "aw_bikebuyer = pd.read_csv(\"C:/Users/user/Documents/1. E-Learning/2019 Program/FinalExam/AW_BikeBuyer.csv\")"
   ]
  },
  {
   "cell_type": "code",
   "execution_count": 3,
   "metadata": {
    "collapsed": true
   },
   "outputs": [
    {
     "data": {
      "text/html": [
       "<div>\n",
       "<style scoped>\n",
       "    .dataframe tbody tr th:only-of-type {\n",
       "        vertical-align: middle;\n",
       "    }\n",
       "\n",
       "    .dataframe tbody tr th {\n",
       "        vertical-align: top;\n",
       "    }\n",
       "\n",
       "    .dataframe thead th {\n",
       "        text-align: right;\n",
       "    }\n",
       "</style>\n",
       "<table border=\"1\" class=\"dataframe\">\n",
       "  <thead>\n",
       "    <tr style=\"text-align: right;\">\n",
       "      <th></th>\n",
       "      <th>CustomerID</th>\n",
       "      <th>Title</th>\n",
       "      <th>FirstName</th>\n",
       "      <th>MiddleName</th>\n",
       "      <th>LastName</th>\n",
       "      <th>Suffix</th>\n",
       "      <th>AddressLine1</th>\n",
       "      <th>AddressLine2</th>\n",
       "      <th>City</th>\n",
       "      <th>StateProvinceName</th>\n",
       "      <th>...</th>\n",
       "      <th>BirthDate</th>\n",
       "      <th>Education</th>\n",
       "      <th>Occupation</th>\n",
       "      <th>Gender</th>\n",
       "      <th>MaritalStatus</th>\n",
       "      <th>HomeOwnerFlag</th>\n",
       "      <th>NumberCarsOwned</th>\n",
       "      <th>NumberChildrenAtHome</th>\n",
       "      <th>TotalChildren</th>\n",
       "      <th>YearlyIncome</th>\n",
       "    </tr>\n",
       "  </thead>\n",
       "  <tbody>\n",
       "    <tr>\n",
       "      <th>0</th>\n",
       "      <td>11000</td>\n",
       "      <td>NaN</td>\n",
       "      <td>Jon</td>\n",
       "      <td>V</td>\n",
       "      <td>Yang</td>\n",
       "      <td>NaN</td>\n",
       "      <td>3761 N. 14th St</td>\n",
       "      <td>NaN</td>\n",
       "      <td>Rockhampton</td>\n",
       "      <td>Queensland</td>\n",
       "      <td>...</td>\n",
       "      <td>1966-04-08</td>\n",
       "      <td>Bachelors</td>\n",
       "      <td>Professional</td>\n",
       "      <td>M</td>\n",
       "      <td>M</td>\n",
       "      <td>1</td>\n",
       "      <td>0</td>\n",
       "      <td>0</td>\n",
       "      <td>2</td>\n",
       "      <td>137947</td>\n",
       "    </tr>\n",
       "    <tr>\n",
       "      <th>1</th>\n",
       "      <td>11001</td>\n",
       "      <td>NaN</td>\n",
       "      <td>Eugene</td>\n",
       "      <td>L</td>\n",
       "      <td>Huang</td>\n",
       "      <td>NaN</td>\n",
       "      <td>2243 W St.</td>\n",
       "      <td>NaN</td>\n",
       "      <td>Seaford</td>\n",
       "      <td>Victoria</td>\n",
       "      <td>...</td>\n",
       "      <td>1965-05-14</td>\n",
       "      <td>Bachelors</td>\n",
       "      <td>Professional</td>\n",
       "      <td>M</td>\n",
       "      <td>S</td>\n",
       "      <td>0</td>\n",
       "      <td>1</td>\n",
       "      <td>3</td>\n",
       "      <td>3</td>\n",
       "      <td>101141</td>\n",
       "    </tr>\n",
       "    <tr>\n",
       "      <th>2</th>\n",
       "      <td>11002</td>\n",
       "      <td>NaN</td>\n",
       "      <td>Ruben</td>\n",
       "      <td>NaN</td>\n",
       "      <td>Torres</td>\n",
       "      <td>NaN</td>\n",
       "      <td>5844 Linden Land</td>\n",
       "      <td>NaN</td>\n",
       "      <td>Hobart</td>\n",
       "      <td>Tasmania</td>\n",
       "      <td>...</td>\n",
       "      <td>1965-08-12</td>\n",
       "      <td>Bachelors</td>\n",
       "      <td>Professional</td>\n",
       "      <td>M</td>\n",
       "      <td>M</td>\n",
       "      <td>1</td>\n",
       "      <td>1</td>\n",
       "      <td>3</td>\n",
       "      <td>3</td>\n",
       "      <td>91945</td>\n",
       "    </tr>\n",
       "    <tr>\n",
       "      <th>3</th>\n",
       "      <td>11003</td>\n",
       "      <td>NaN</td>\n",
       "      <td>Christy</td>\n",
       "      <td>NaN</td>\n",
       "      <td>Zhu</td>\n",
       "      <td>NaN</td>\n",
       "      <td>1825 Village Pl.</td>\n",
       "      <td>NaN</td>\n",
       "      <td>North Ryde</td>\n",
       "      <td>New South Wales</td>\n",
       "      <td>...</td>\n",
       "      <td>1968-02-15</td>\n",
       "      <td>Bachelors</td>\n",
       "      <td>Professional</td>\n",
       "      <td>F</td>\n",
       "      <td>S</td>\n",
       "      <td>0</td>\n",
       "      <td>1</td>\n",
       "      <td>0</td>\n",
       "      <td>0</td>\n",
       "      <td>86688</td>\n",
       "    </tr>\n",
       "    <tr>\n",
       "      <th>4</th>\n",
       "      <td>11004</td>\n",
       "      <td>NaN</td>\n",
       "      <td>Elizabeth</td>\n",
       "      <td>NaN</td>\n",
       "      <td>Johnson</td>\n",
       "      <td>NaN</td>\n",
       "      <td>7553 Harness Circle</td>\n",
       "      <td>NaN</td>\n",
       "      <td>Wollongong</td>\n",
       "      <td>New South Wales</td>\n",
       "      <td>...</td>\n",
       "      <td>1968-08-08</td>\n",
       "      <td>Bachelors</td>\n",
       "      <td>Professional</td>\n",
       "      <td>F</td>\n",
       "      <td>S</td>\n",
       "      <td>1</td>\n",
       "      <td>4</td>\n",
       "      <td>5</td>\n",
       "      <td>5</td>\n",
       "      <td>92771</td>\n",
       "    </tr>\n",
       "  </tbody>\n",
       "</table>\n",
       "<p>5 rows × 23 columns</p>\n",
       "</div>"
      ],
      "text/plain": [
       "   CustomerID Title  FirstName MiddleName LastName Suffix  \\\n",
       "0       11000   NaN        Jon          V     Yang    NaN   \n",
       "1       11001   NaN     Eugene          L    Huang    NaN   \n",
       "2       11002   NaN      Ruben        NaN   Torres    NaN   \n",
       "3       11003   NaN    Christy        NaN      Zhu    NaN   \n",
       "4       11004   NaN  Elizabeth        NaN  Johnson    NaN   \n",
       "\n",
       "          AddressLine1 AddressLine2         City StateProvinceName  ...  \\\n",
       "0      3761 N. 14th St          NaN  Rockhampton        Queensland  ...   \n",
       "1           2243 W St.          NaN      Seaford          Victoria  ...   \n",
       "2     5844 Linden Land          NaN       Hobart          Tasmania  ...   \n",
       "3     1825 Village Pl.          NaN   North Ryde   New South Wales  ...   \n",
       "4  7553 Harness Circle          NaN   Wollongong   New South Wales  ...   \n",
       "\n",
       "    BirthDate   Education    Occupation Gender MaritalStatus HomeOwnerFlag  \\\n",
       "0  1966-04-08  Bachelors   Professional      M             M             1   \n",
       "1  1965-05-14  Bachelors   Professional      M             S             0   \n",
       "2  1965-08-12  Bachelors   Professional      M             M             1   \n",
       "3  1968-02-15  Bachelors   Professional      F             S             0   \n",
       "4  1968-08-08  Bachelors   Professional      F             S             1   \n",
       "\n",
       "  NumberCarsOwned NumberChildrenAtHome  TotalChildren  YearlyIncome  \n",
       "0               0                    0              2        137947  \n",
       "1               1                    3              3        101141  \n",
       "2               1                    3              3         91945  \n",
       "3               1                    0              0         86688  \n",
       "4               4                    5              5         92771  \n",
       "\n",
       "[5 rows x 23 columns]"
      ]
     },
     "execution_count": 3,
     "metadata": {},
     "output_type": "execute_result"
    }
   ],
   "source": [
    "# Inspect the first five elements of adventure_works\n",
    "\n",
    "adventure_works.head()"
   ]
  },
  {
   "cell_type": "code",
   "execution_count": 4,
   "metadata": {},
   "outputs": [
    {
     "name": "stdout",
     "output_type": "stream",
     "text": [
      "<class 'pandas.core.frame.DataFrame'>\n",
      "RangeIndex: 16519 entries, 0 to 16518\n",
      "Data columns (total 23 columns):\n",
      "CustomerID              16519 non-null int64\n",
      "Title                   88 non-null object\n",
      "FirstName               16519 non-null object\n",
      "MiddleName              9534 non-null object\n",
      "LastName                16519 non-null object\n",
      "Suffix                  2 non-null object\n",
      "AddressLine1            16519 non-null object\n",
      "AddressLine2            276 non-null object\n",
      "City                    16519 non-null object\n",
      "StateProvinceName       16519 non-null object\n",
      "CountryRegionName       16519 non-null object\n",
      "PostalCode              16519 non-null object\n",
      "PhoneNumber             16519 non-null object\n",
      "BirthDate               16519 non-null object\n",
      "Education               16519 non-null object\n",
      "Occupation              16519 non-null object\n",
      "Gender                  16519 non-null object\n",
      "MaritalStatus           16519 non-null object\n",
      "HomeOwnerFlag           16519 non-null int64\n",
      "NumberCarsOwned         16519 non-null int64\n",
      "NumberChildrenAtHome    16519 non-null int64\n",
      "TotalChildren           16519 non-null int64\n",
      "YearlyIncome            16519 non-null int64\n",
      "dtypes: int64(6), object(17)\n",
      "memory usage: 2.9+ MB\n"
     ]
    }
   ],
   "source": [
    "# Get more informations about adventure_works\n",
    "\n",
    "adventure_works.info()"
   ]
  },
  {
   "cell_type": "markdown",
   "metadata": {},
   "source": [
    "We see that columns like **Title**, **MiddleName**, **Suffix** and **AddressLine2** contain a lot of missing values. Therefore we can remove these columns. They certainly don't add much value to our analysis."
   ]
  },
  {
   "cell_type": "code",
   "execution_count": 5,
   "metadata": {
    "collapsed": true
   },
   "outputs": [
    {
     "data": {
      "text/plain": [
       "Index(['CustomerID', 'FirstName', 'LastName', 'AddressLine1', 'City',\n",
       "       'StateProvinceName', 'CountryRegionName', 'PostalCode', 'PhoneNumber',\n",
       "       'BirthDate', 'Education', 'Occupation', 'Gender', 'MaritalStatus',\n",
       "       'HomeOwnerFlag', 'NumberCarsOwned', 'NumberChildrenAtHome',\n",
       "       'TotalChildren', 'YearlyIncome'],\n",
       "      dtype='object')"
      ]
     },
     "execution_count": 5,
     "metadata": {},
     "output_type": "execute_result"
    }
   ],
   "source": [
    "# Remove the specified columns\n",
    "cols_to_remove = ['Title', 'MiddleName', 'Suffix', 'AddressLine2']\n",
    "adventure_works = adventure_works.drop(cols_to_remove, axis=1)\n",
    "adventure_works.columns"
   ]
  },
  {
   "cell_type": "code",
   "execution_count": 6,
   "metadata": {
    "scrolled": false
   },
   "outputs": [
    {
     "name": "stdout",
     "output_type": "stream",
     "text": [
      "<class 'pandas.core.frame.DataFrame'>\n",
      "RangeIndex: 16519 entries, 0 to 16518\n",
      "Data columns (total 19 columns):\n",
      "CustomerID              16519 non-null int64\n",
      "FirstName               16519 non-null object\n",
      "LastName                16519 non-null object\n",
      "AddressLine1            16519 non-null object\n",
      "City                    16519 non-null object\n",
      "StateProvinceName       16519 non-null object\n",
      "CountryRegionName       16519 non-null object\n",
      "PostalCode              16519 non-null object\n",
      "PhoneNumber             16519 non-null object\n",
      "BirthDate               16519 non-null object\n",
      "Education               16519 non-null object\n",
      "Occupation              16519 non-null object\n",
      "Gender                  16519 non-null object\n",
      "MaritalStatus           16519 non-null object\n",
      "HomeOwnerFlag           16519 non-null int64\n",
      "NumberCarsOwned         16519 non-null int64\n",
      "NumberChildrenAtHome    16519 non-null int64\n",
      "TotalChildren           16519 non-null int64\n",
      "YearlyIncome            16519 non-null int64\n",
      "dtypes: int64(6), object(13)\n",
      "memory usage: 2.4+ MB\n"
     ]
    }
   ],
   "source": [
    "# Check adventure_works once more\n",
    "adventure_works.info()"
   ]
  },
  {
   "cell_type": "markdown",
   "metadata": {},
   "source": [
    "The remaining columns don't contain missing values. Now we are going to handle duplicated values. If duplicated values are found, we will keep the most updated version. "
   ]
  },
  {
   "cell_type": "code",
   "execution_count": 7,
   "metadata": {
    "collapsed": true
   },
   "outputs": [
    {
     "name": "stdout",
     "output_type": "stream",
     "text": [
      "The duplicates to remove are: \n",
      "-------------------------------\n"
     ]
    },
    {
     "data": {
      "text/html": [
       "<div>\n",
       "<style scoped>\n",
       "    .dataframe tbody tr th:only-of-type {\n",
       "        vertical-align: middle;\n",
       "    }\n",
       "\n",
       "    .dataframe tbody tr th {\n",
       "        vertical-align: top;\n",
       "    }\n",
       "\n",
       "    .dataframe thead th {\n",
       "        text-align: right;\n",
       "    }\n",
       "</style>\n",
       "<table border=\"1\" class=\"dataframe\">\n",
       "  <thead>\n",
       "    <tr style=\"text-align: right;\">\n",
       "      <th></th>\n",
       "      <th>CustomerID</th>\n",
       "      <th>FirstName</th>\n",
       "      <th>LastName</th>\n",
       "      <th>AddressLine1</th>\n",
       "      <th>City</th>\n",
       "      <th>StateProvinceName</th>\n",
       "      <th>CountryRegionName</th>\n",
       "      <th>PostalCode</th>\n",
       "      <th>PhoneNumber</th>\n",
       "      <th>BirthDate</th>\n",
       "      <th>Education</th>\n",
       "      <th>Occupation</th>\n",
       "      <th>Gender</th>\n",
       "      <th>MaritalStatus</th>\n",
       "      <th>HomeOwnerFlag</th>\n",
       "      <th>NumberCarsOwned</th>\n",
       "      <th>NumberChildrenAtHome</th>\n",
       "      <th>TotalChildren</th>\n",
       "      <th>YearlyIncome</th>\n",
       "    </tr>\n",
       "  </thead>\n",
       "  <tbody>\n",
       "    <tr>\n",
       "      <th>3393</th>\n",
       "      <td>29333</td>\n",
       "      <td>Abby</td>\n",
       "      <td>Martinez</td>\n",
       "      <td>1023 Hawkins Street</td>\n",
       "      <td>Townsville</td>\n",
       "      <td>Queensland</td>\n",
       "      <td>Australia</td>\n",
       "      <td>4810</td>\n",
       "      <td>1 (11) 500 555-0150</td>\n",
       "      <td>1937-09-10</td>\n",
       "      <td>Bachelors</td>\n",
       "      <td>Management</td>\n",
       "      <td>F</td>\n",
       "      <td>S</td>\n",
       "      <td>0</td>\n",
       "      <td>2</td>\n",
       "      <td>0</td>\n",
       "      <td>2</td>\n",
       "      <td>58892</td>\n",
       "    </tr>\n",
       "    <tr>\n",
       "      <th>4463</th>\n",
       "      <td>18719</td>\n",
       "      <td>Alberto</td>\n",
       "      <td>Suarez</td>\n",
       "      <td>7289 Las Quebrados Ln</td>\n",
       "      <td>Rhodes</td>\n",
       "      <td>New South Wales</td>\n",
       "      <td>Australia</td>\n",
       "      <td>2138</td>\n",
       "      <td>1 (11) 500 555-0182</td>\n",
       "      <td>1964-10-20</td>\n",
       "      <td>Bachelors</td>\n",
       "      <td>Professional</td>\n",
       "      <td>M</td>\n",
       "      <td>M</td>\n",
       "      <td>1</td>\n",
       "      <td>3</td>\n",
       "      <td>4</td>\n",
       "      <td>4</td>\n",
       "      <td>106313</td>\n",
       "    </tr>\n",
       "    <tr>\n",
       "      <th>8081</th>\n",
       "      <td>20021</td>\n",
       "      <td>Alexander</td>\n",
       "      <td>Jones</td>\n",
       "      <td>5805 Nob Hill Drive</td>\n",
       "      <td>Haney</td>\n",
       "      <td>British Columbia</td>\n",
       "      <td>Canada</td>\n",
       "      <td>V2W 1W2</td>\n",
       "      <td>172-555-0116</td>\n",
       "      <td>1965-06-28</td>\n",
       "      <td>Bachelors</td>\n",
       "      <td>Skilled Manual</td>\n",
       "      <td>M</td>\n",
       "      <td>M</td>\n",
       "      <td>1</td>\n",
       "      <td>0</td>\n",
       "      <td>4</td>\n",
       "      <td>4</td>\n",
       "      <td>118085</td>\n",
       "    </tr>\n",
       "    <tr>\n",
       "      <th>7221</th>\n",
       "      <td>20202</td>\n",
       "      <td>Alexandra</td>\n",
       "      <td>Jones</td>\n",
       "      <td>4386 Ryan Rd.</td>\n",
       "      <td>Haney</td>\n",
       "      <td>British Columbia</td>\n",
       "      <td>Canada</td>\n",
       "      <td>V2W 1W2</td>\n",
       "      <td>642-555-0111</td>\n",
       "      <td>1959-12-02</td>\n",
       "      <td>Graduate Degree</td>\n",
       "      <td>Professional</td>\n",
       "      <td>F</td>\n",
       "      <td>M</td>\n",
       "      <td>1</td>\n",
       "      <td>3</td>\n",
       "      <td>5</td>\n",
       "      <td>5</td>\n",
       "      <td>90140</td>\n",
       "    </tr>\n",
       "    <tr>\n",
       "      <th>2057</th>\n",
       "      <td>13289</td>\n",
       "      <td>Alexandria</td>\n",
       "      <td>Coleman</td>\n",
       "      <td>6652 Birch Park Rd</td>\n",
       "      <td>Cliffside</td>\n",
       "      <td>British Columbia</td>\n",
       "      <td>Canada</td>\n",
       "      <td>V8Y 1L1</td>\n",
       "      <td>245-555-0181</td>\n",
       "      <td>1962-02-26</td>\n",
       "      <td>Partial College</td>\n",
       "      <td>Professional</td>\n",
       "      <td>F</td>\n",
       "      <td>M</td>\n",
       "      <td>1</td>\n",
       "      <td>3</td>\n",
       "      <td>4</td>\n",
       "      <td>5</td>\n",
       "      <td>81064</td>\n",
       "    </tr>\n",
       "    <tr>\n",
       "      <th>6459</th>\n",
       "      <td>26767</td>\n",
       "      <td>Alisha</td>\n",
       "      <td>Goel</td>\n",
       "      <td>3002 Carmel Drive</td>\n",
       "      <td>Rhodes</td>\n",
       "      <td>New South Wales</td>\n",
       "      <td>Australia</td>\n",
       "      <td>2138</td>\n",
       "      <td>1 (11) 500 555-0133</td>\n",
       "      <td>1957-10-25</td>\n",
       "      <td>Partial College</td>\n",
       "      <td>Skilled Manual</td>\n",
       "      <td>F</td>\n",
       "      <td>S</td>\n",
       "      <td>0</td>\n",
       "      <td>1</td>\n",
       "      <td>0</td>\n",
       "      <td>1</td>\n",
       "      <td>72107</td>\n",
       "    </tr>\n",
       "    <tr>\n",
       "      <th>4230</th>\n",
       "      <td>27046</td>\n",
       "      <td>Allison</td>\n",
       "      <td>Howard</td>\n",
       "      <td>8788 Green Leaf Drive</td>\n",
       "      <td>Downey</td>\n",
       "      <td>California</td>\n",
       "      <td>United States</td>\n",
       "      <td>90241</td>\n",
       "      <td>548-555-0110</td>\n",
       "      <td>1958-06-16</td>\n",
       "      <td>Partial College</td>\n",
       "      <td>Clerical</td>\n",
       "      <td>F</td>\n",
       "      <td>M</td>\n",
       "      <td>1</td>\n",
       "      <td>1</td>\n",
       "      <td>0</td>\n",
       "      <td>1</td>\n",
       "      <td>45275</td>\n",
       "    </tr>\n",
       "    <tr>\n",
       "      <th>34</th>\n",
       "      <td>11041</td>\n",
       "      <td>Amanda</td>\n",
       "      <td>Carter</td>\n",
       "      <td>5826 Escobar</td>\n",
       "      <td>Glendale</td>\n",
       "      <td>California</td>\n",
       "      <td>United States</td>\n",
       "      <td>91203</td>\n",
       "      <td>295-555-0145</td>\n",
       "      <td>1977-10-16</td>\n",
       "      <td>Partial College</td>\n",
       "      <td>Skilled Manual</td>\n",
       "      <td>F</td>\n",
       "      <td>M</td>\n",
       "      <td>1</td>\n",
       "      <td>2</td>\n",
       "      <td>0</td>\n",
       "      <td>0</td>\n",
       "      <td>78170</td>\n",
       "    </tr>\n",
       "    <tr>\n",
       "      <th>251</th>\n",
       "      <td>11279</td>\n",
       "      <td>Amanda</td>\n",
       "      <td>Cook</td>\n",
       "      <td>4098 Woodcrest Dr.</td>\n",
       "      <td>Everett</td>\n",
       "      <td>Washington</td>\n",
       "      <td>United States</td>\n",
       "      <td>98201</td>\n",
       "      <td>252-555-0177</td>\n",
       "      <td>1963-09-12</td>\n",
       "      <td>Partial College</td>\n",
       "      <td>Professional</td>\n",
       "      <td>F</td>\n",
       "      <td>M</td>\n",
       "      <td>1</td>\n",
       "      <td>1</td>\n",
       "      <td>0</td>\n",
       "      <td>0</td>\n",
       "      <td>85754</td>\n",
       "    </tr>\n",
       "    <tr>\n",
       "      <th>2989</th>\n",
       "      <td>14328</td>\n",
       "      <td>Andrea</td>\n",
       "      <td>Rogers</td>\n",
       "      <td>9669 Cynthia Dr.</td>\n",
       "      <td>Shawnee</td>\n",
       "      <td>British Columbia</td>\n",
       "      <td>Canada</td>\n",
       "      <td>V9B 2C3</td>\n",
       "      <td>830-555-0152</td>\n",
       "      <td>1976-08-08</td>\n",
       "      <td>High School</td>\n",
       "      <td>Skilled Manual</td>\n",
       "      <td>F</td>\n",
       "      <td>S</td>\n",
       "      <td>0</td>\n",
       "      <td>2</td>\n",
       "      <td>0</td>\n",
       "      <td>0</td>\n",
       "      <td>51443</td>\n",
       "    </tr>\n",
       "    <tr>\n",
       "      <th>7639</th>\n",
       "      <td>22441</td>\n",
       "      <td>Andrea</td>\n",
       "      <td>Torres</td>\n",
       "      <td>Herzogstr 2998</td>\n",
       "      <td>Hof</td>\n",
       "      <td>Bayern</td>\n",
       "      <td>Germany</td>\n",
       "      <td>95010</td>\n",
       "      <td>1 (11) 500 555-0112</td>\n",
       "      <td>1969-02-20</td>\n",
       "      <td>Bachelors</td>\n",
       "      <td>Clerical</td>\n",
       "      <td>F</td>\n",
       "      <td>S</td>\n",
       "      <td>1</td>\n",
       "      <td>0</td>\n",
       "      <td>0</td>\n",
       "      <td>1</td>\n",
       "      <td>47701</td>\n",
       "    </tr>\n",
       "    <tr>\n",
       "      <th>4552</th>\n",
       "      <td>23445</td>\n",
       "      <td>Andy</td>\n",
       "      <td>Carlson</td>\n",
       "      <td>Attaché de Presse</td>\n",
       "      <td>Roncq</td>\n",
       "      <td>Nord</td>\n",
       "      <td>France</td>\n",
       "      <td>59223</td>\n",
       "      <td>1 (11) 500 555-0155</td>\n",
       "      <td>1974-11-08</td>\n",
       "      <td>Partial College</td>\n",
       "      <td>Clerical</td>\n",
       "      <td>M</td>\n",
       "      <td>S</td>\n",
       "      <td>1</td>\n",
       "      <td>1</td>\n",
       "      <td>0</td>\n",
       "      <td>0</td>\n",
       "      <td>45564</td>\n",
       "    </tr>\n",
       "    <tr>\n",
       "      <th>1592</th>\n",
       "      <td>26234</td>\n",
       "      <td>Antonio</td>\n",
       "      <td>Perry</td>\n",
       "      <td>3250 Golden Meadow Dr.</td>\n",
       "      <td>Berkeley</td>\n",
       "      <td>California</td>\n",
       "      <td>United States</td>\n",
       "      <td>94704</td>\n",
       "      <td>267-555-0111</td>\n",
       "      <td>1975-12-27</td>\n",
       "      <td>Partial College</td>\n",
       "      <td>Clerical</td>\n",
       "      <td>M</td>\n",
       "      <td>S</td>\n",
       "      <td>1</td>\n",
       "      <td>0</td>\n",
       "      <td>3</td>\n",
       "      <td>3</td>\n",
       "      <td>63457</td>\n",
       "    </tr>\n",
       "    <tr>\n",
       "      <th>3744</th>\n",
       "      <td>24813</td>\n",
       "      <td>Armando</td>\n",
       "      <td>Schmidt</td>\n",
       "      <td>3495 Virginia Lane</td>\n",
       "      <td>Concord</td>\n",
       "      <td>California</td>\n",
       "      <td>United States</td>\n",
       "      <td>94519</td>\n",
       "      <td>249-555-0138</td>\n",
       "      <td>1966-10-21</td>\n",
       "      <td>Bachelors</td>\n",
       "      <td>Skilled Manual</td>\n",
       "      <td>M</td>\n",
       "      <td>M</td>\n",
       "      <td>1</td>\n",
       "      <td>1</td>\n",
       "      <td>3</td>\n",
       "      <td>3</td>\n",
       "      <td>116949</td>\n",
       "    </tr>\n",
       "    <tr>\n",
       "      <th>4113</th>\n",
       "      <td>22069</td>\n",
       "      <td>Bailey</td>\n",
       "      <td>Reed</td>\n",
       "      <td>3652 Happy Valley Road</td>\n",
       "      <td>Beverly Hills</td>\n",
       "      <td>California</td>\n",
       "      <td>United States</td>\n",
       "      <td>90210</td>\n",
       "      <td>879-555-0197</td>\n",
       "      <td>1963-12-06</td>\n",
       "      <td>Partial College</td>\n",
       "      <td>Professional</td>\n",
       "      <td>F</td>\n",
       "      <td>S</td>\n",
       "      <td>1</td>\n",
       "      <td>2</td>\n",
       "      <td>2</td>\n",
       "      <td>2</td>\n",
       "      <td>107768</td>\n",
       "    </tr>\n",
       "    <tr>\n",
       "      <th>1205</th>\n",
       "      <td>14532</td>\n",
       "      <td>Barbara</td>\n",
       "      <td>Wu</td>\n",
       "      <td>818, rue de Berri</td>\n",
       "      <td>Courbevoie</td>\n",
       "      <td>Hauts de Seine</td>\n",
       "      <td>France</td>\n",
       "      <td>92400</td>\n",
       "      <td>1 (11) 500 555-0150</td>\n",
       "      <td>1962-11-21</td>\n",
       "      <td>Graduate Degree</td>\n",
       "      <td>Clerical</td>\n",
       "      <td>F</td>\n",
       "      <td>M</td>\n",
       "      <td>1</td>\n",
       "      <td>0</td>\n",
       "      <td>0</td>\n",
       "      <td>1</td>\n",
       "      <td>31886</td>\n",
       "    </tr>\n",
       "    <tr>\n",
       "      <th>875</th>\n",
       "      <td>17390</td>\n",
       "      <td>Blake</td>\n",
       "      <td>Lewis</td>\n",
       "      <td>3127 El Camino Drive</td>\n",
       "      <td>Milwaukie</td>\n",
       "      <td>Oregon</td>\n",
       "      <td>United States</td>\n",
       "      <td>97222</td>\n",
       "      <td>177-555-0182</td>\n",
       "      <td>1972-10-08</td>\n",
       "      <td>Graduate Degree</td>\n",
       "      <td>Skilled Manual</td>\n",
       "      <td>M</td>\n",
       "      <td>M</td>\n",
       "      <td>1</td>\n",
       "      <td>0</td>\n",
       "      <td>0</td>\n",
       "      <td>1</td>\n",
       "      <td>103142</td>\n",
       "    </tr>\n",
       "    <tr>\n",
       "      <th>675</th>\n",
       "      <td>11748</td>\n",
       "      <td>Blake</td>\n",
       "      <td>Hill</td>\n",
       "      <td>1315 Norse Drive</td>\n",
       "      <td>Victoria</td>\n",
       "      <td>British Columbia</td>\n",
       "      <td>Canada</td>\n",
       "      <td>V8V</td>\n",
       "      <td>171-555-0174</td>\n",
       "      <td>1958-07-18</td>\n",
       "      <td>Graduate Degree</td>\n",
       "      <td>Professional</td>\n",
       "      <td>M</td>\n",
       "      <td>M</td>\n",
       "      <td>1</td>\n",
       "      <td>1</td>\n",
       "      <td>4</td>\n",
       "      <td>5</td>\n",
       "      <td>121938</td>\n",
       "    </tr>\n",
       "    <tr>\n",
       "      <th>10684</th>\n",
       "      <td>24533</td>\n",
       "      <td>Blake</td>\n",
       "      <td>Long</td>\n",
       "      <td>1761 Holbrook Dr.</td>\n",
       "      <td>Esher-Molesey</td>\n",
       "      <td>England</td>\n",
       "      <td>United Kingdom</td>\n",
       "      <td>EM15</td>\n",
       "      <td>1 (11) 500 555-0178</td>\n",
       "      <td>1958-08-27</td>\n",
       "      <td>Partial College</td>\n",
       "      <td>Professional</td>\n",
       "      <td>M</td>\n",
       "      <td>S</td>\n",
       "      <td>0</td>\n",
       "      <td>0</td>\n",
       "      <td>4</td>\n",
       "      <td>4</td>\n",
       "      <td>160455</td>\n",
       "    </tr>\n",
       "    <tr>\n",
       "      <th>12732</th>\n",
       "      <td>29450</td>\n",
       "      <td>Bradley</td>\n",
       "      <td>Chande</td>\n",
       "      <td>1, place de Brazaville</td>\n",
       "      <td>Colomiers</td>\n",
       "      <td>Garonne (Haute)</td>\n",
       "      <td>France</td>\n",
       "      <td>31770</td>\n",
       "      <td>1 (11) 500 555-0169</td>\n",
       "      <td>1942-11-07</td>\n",
       "      <td>Partial College</td>\n",
       "      <td>Manual</td>\n",
       "      <td>M</td>\n",
       "      <td>S</td>\n",
       "      <td>1</td>\n",
       "      <td>1</td>\n",
       "      <td>0</td>\n",
       "      <td>2</td>\n",
       "      <td>19143</td>\n",
       "    </tr>\n",
       "    <tr>\n",
       "      <th>3295</th>\n",
       "      <td>14675</td>\n",
       "      <td>Brandi</td>\n",
       "      <td>Gomez</td>\n",
       "      <td>7164 Mepham Drive</td>\n",
       "      <td>Hervey Bay</td>\n",
       "      <td>Queensland</td>\n",
       "      <td>Australia</td>\n",
       "      <td>4655</td>\n",
       "      <td>1 (11) 500 555-0157</td>\n",
       "      <td>1967-08-06</td>\n",
       "      <td>Bachelors</td>\n",
       "      <td>Professional</td>\n",
       "      <td>F</td>\n",
       "      <td>M</td>\n",
       "      <td>0</td>\n",
       "      <td>4</td>\n",
       "      <td>5</td>\n",
       "      <td>5</td>\n",
       "      <td>88923</td>\n",
       "    </tr>\n",
       "    <tr>\n",
       "      <th>12829</th>\n",
       "      <td>25352</td>\n",
       "      <td>Brandon</td>\n",
       "      <td>Martinez</td>\n",
       "      <td>843 Camino Verde Cr.</td>\n",
       "      <td>Lake Oswego</td>\n",
       "      <td>Oregon</td>\n",
       "      <td>United States</td>\n",
       "      <td>97034</td>\n",
       "      <td>327-555-0193</td>\n",
       "      <td>1957-02-14</td>\n",
       "      <td>Partial High School</td>\n",
       "      <td>Clerical</td>\n",
       "      <td>M</td>\n",
       "      <td>M</td>\n",
       "      <td>0</td>\n",
       "      <td>2</td>\n",
       "      <td>1</td>\n",
       "      <td>2</td>\n",
       "      <td>18570</td>\n",
       "    </tr>\n",
       "    <tr>\n",
       "      <th>10544</th>\n",
       "      <td>22811</td>\n",
       "      <td>Brent</td>\n",
       "      <td>Stone</td>\n",
       "      <td>7578 Sierra Road</td>\n",
       "      <td>Gloucestershire</td>\n",
       "      <td>England</td>\n",
       "      <td>United Kingdom</td>\n",
       "      <td>GL7 1RY</td>\n",
       "      <td>1 (11) 500 555-0135</td>\n",
       "      <td>1945-06-16</td>\n",
       "      <td>Bachelors</td>\n",
       "      <td>Management</td>\n",
       "      <td>M</td>\n",
       "      <td>M</td>\n",
       "      <td>1</td>\n",
       "      <td>4</td>\n",
       "      <td>4</td>\n",
       "      <td>4</td>\n",
       "      <td>163032</td>\n",
       "    </tr>\n",
       "    <tr>\n",
       "      <th>1254</th>\n",
       "      <td>15042</td>\n",
       "      <td>Bryant</td>\n",
       "      <td>Perez</td>\n",
       "      <td>1502 Marion Ct.</td>\n",
       "      <td>Coffs Harbour</td>\n",
       "      <td>New South Wales</td>\n",
       "      <td>Australia</td>\n",
       "      <td>2450</td>\n",
       "      <td>1 (11) 500 555-0189</td>\n",
       "      <td>1977-01-21</td>\n",
       "      <td>Partial College</td>\n",
       "      <td>Manual</td>\n",
       "      <td>M</td>\n",
       "      <td>S</td>\n",
       "      <td>0</td>\n",
       "      <td>0</td>\n",
       "      <td>0</td>\n",
       "      <td>0</td>\n",
       "      <td>25281</td>\n",
       "    </tr>\n",
       "    <tr>\n",
       "      <th>10510</th>\n",
       "      <td>22774</td>\n",
       "      <td>Caleb</td>\n",
       "      <td>Alexander</td>\n",
       "      <td>4775 Kentucky Dr.</td>\n",
       "      <td>Monroe</td>\n",
       "      <td>Washington</td>\n",
       "      <td>United States</td>\n",
       "      <td>98272</td>\n",
       "      <td>670-555-0141</td>\n",
       "      <td>1950-10-19</td>\n",
       "      <td>Partial College</td>\n",
       "      <td>Professional</td>\n",
       "      <td>M</td>\n",
       "      <td>M</td>\n",
       "      <td>1</td>\n",
       "      <td>2</td>\n",
       "      <td>1</td>\n",
       "      <td>2</td>\n",
       "      <td>97130</td>\n",
       "    </tr>\n",
       "    <tr>\n",
       "      <th>4057</th>\n",
       "      <td>15531</td>\n",
       "      <td>Calvin</td>\n",
       "      <td>Raji</td>\n",
       "      <td>5415 San Gabriel Dr.</td>\n",
       "      <td>Bothell</td>\n",
       "      <td>Washington</td>\n",
       "      <td>United States</td>\n",
       "      <td>98011</td>\n",
       "      <td>230-555-0191</td>\n",
       "      <td>1963-06-14</td>\n",
       "      <td>Bachelors</td>\n",
       "      <td>Professional</td>\n",
       "      <td>M</td>\n",
       "      <td>M</td>\n",
       "      <td>1</td>\n",
       "      <td>2</td>\n",
       "      <td>2</td>\n",
       "      <td>4</td>\n",
       "      <td>101164</td>\n",
       "    </tr>\n",
       "    <tr>\n",
       "      <th>4525</th>\n",
       "      <td>17832</td>\n",
       "      <td>Cameron</td>\n",
       "      <td>Sharma</td>\n",
       "      <td>Unter Linden 54</td>\n",
       "      <td>Neunkirchen</td>\n",
       "      <td>Saarland</td>\n",
       "      <td>Germany</td>\n",
       "      <td>66578</td>\n",
       "      <td>1 (11) 500 555-0158</td>\n",
       "      <td>1962-12-11</td>\n",
       "      <td>Partial College</td>\n",
       "      <td>Clerical</td>\n",
       "      <td>M</td>\n",
       "      <td>M</td>\n",
       "      <td>1</td>\n",
       "      <td>1</td>\n",
       "      <td>0</td>\n",
       "      <td>1</td>\n",
       "      <td>61999</td>\n",
       "    </tr>\n",
       "    <tr>\n",
       "      <th>1923</th>\n",
       "      <td>13139</td>\n",
       "      <td>Carmen</td>\n",
       "      <td>Perez</td>\n",
       "      <td>1622 Silver Oaks Place</td>\n",
       "      <td>Lane Cove</td>\n",
       "      <td>New South Wales</td>\n",
       "      <td>Australia</td>\n",
       "      <td>1597</td>\n",
       "      <td>1 (11) 500 555-0195</td>\n",
       "      <td>1956-02-09</td>\n",
       "      <td>Partial College</td>\n",
       "      <td>Skilled Manual</td>\n",
       "      <td>F</td>\n",
       "      <td>S</td>\n",
       "      <td>0</td>\n",
       "      <td>1</td>\n",
       "      <td>0</td>\n",
       "      <td>1</td>\n",
       "      <td>59605</td>\n",
       "    </tr>\n",
       "    <tr>\n",
       "      <th>6946</th>\n",
       "      <td>29302</td>\n",
       "      <td>Carolyn</td>\n",
       "      <td>Fernandez</td>\n",
       "      <td>5639 Lee Lane</td>\n",
       "      <td>Geelong</td>\n",
       "      <td>Victoria</td>\n",
       "      <td>Australia</td>\n",
       "      <td>3220</td>\n",
       "      <td>1 (11) 500 555-0134</td>\n",
       "      <td>1964-01-19</td>\n",
       "      <td>Bachelors</td>\n",
       "      <td>Professional</td>\n",
       "      <td>F</td>\n",
       "      <td>S</td>\n",
       "      <td>0</td>\n",
       "      <td>1</td>\n",
       "      <td>0</td>\n",
       "      <td>0</td>\n",
       "      <td>90449</td>\n",
       "    </tr>\n",
       "    <tr>\n",
       "      <th>6434</th>\n",
       "      <td>18175</td>\n",
       "      <td>Carrie</td>\n",
       "      <td>Hernandez</td>\n",
       "      <td>42, impasse Ste-Madeleine</td>\n",
       "      <td>Paris</td>\n",
       "      <td>Seine (Paris)</td>\n",
       "      <td>France</td>\n",
       "      <td>75007</td>\n",
       "      <td>1 (11) 500 555-0114</td>\n",
       "      <td>1950-05-16</td>\n",
       "      <td>High School</td>\n",
       "      <td>Management</td>\n",
       "      <td>F</td>\n",
       "      <td>M</td>\n",
       "      <td>0</td>\n",
       "      <td>3</td>\n",
       "      <td>1</td>\n",
       "      <td>4</td>\n",
       "      <td>98788</td>\n",
       "    </tr>\n",
       "    <tr>\n",
       "      <th>...</th>\n",
       "      <td>...</td>\n",
       "      <td>...</td>\n",
       "      <td>...</td>\n",
       "      <td>...</td>\n",
       "      <td>...</td>\n",
       "      <td>...</td>\n",
       "      <td>...</td>\n",
       "      <td>...</td>\n",
       "      <td>...</td>\n",
       "      <td>...</td>\n",
       "      <td>...</td>\n",
       "      <td>...</td>\n",
       "      <td>...</td>\n",
       "      <td>...</td>\n",
       "      <td>...</td>\n",
       "      <td>...</td>\n",
       "      <td>...</td>\n",
       "      <td>...</td>\n",
       "      <td>...</td>\n",
       "    </tr>\n",
       "    <tr>\n",
       "      <th>4326</th>\n",
       "      <td>15841</td>\n",
       "      <td>Luis</td>\n",
       "      <td>Shan</td>\n",
       "      <td>500 35th Ave NE</td>\n",
       "      <td>Los Angeles</td>\n",
       "      <td>California</td>\n",
       "      <td>United States</td>\n",
       "      <td>90012</td>\n",
       "      <td>716-555-0173</td>\n",
       "      <td>1972-05-14</td>\n",
       "      <td>Bachelors</td>\n",
       "      <td>Management</td>\n",
       "      <td>M</td>\n",
       "      <td>S</td>\n",
       "      <td>0</td>\n",
       "      <td>1</td>\n",
       "      <td>0</td>\n",
       "      <td>0</td>\n",
       "      <td>127851</td>\n",
       "    </tr>\n",
       "    <tr>\n",
       "      <th>986</th>\n",
       "      <td>19511</td>\n",
       "      <td>Marcus</td>\n",
       "      <td>Ward</td>\n",
       "      <td>7342 Pueblo Dr.</td>\n",
       "      <td>Oxford</td>\n",
       "      <td>England</td>\n",
       "      <td>United Kingdom</td>\n",
       "      <td>OX1</td>\n",
       "      <td>1 (11) 500 555-0113</td>\n",
       "      <td>1976-05-19</td>\n",
       "      <td>Partial College</td>\n",
       "      <td>Clerical</td>\n",
       "      <td>M</td>\n",
       "      <td>S</td>\n",
       "      <td>0</td>\n",
       "      <td>1</td>\n",
       "      <td>0</td>\n",
       "      <td>0</td>\n",
       "      <td>47002</td>\n",
       "    </tr>\n",
       "    <tr>\n",
       "      <th>10789</th>\n",
       "      <td>23077</td>\n",
       "      <td>Marvin</td>\n",
       "      <td>Hernandez</td>\n",
       "      <td>1019 Book Road</td>\n",
       "      <td>Rhodes</td>\n",
       "      <td>New South Wales</td>\n",
       "      <td>Australia</td>\n",
       "      <td>2138</td>\n",
       "      <td>1 (11) 500 555-0112</td>\n",
       "      <td>1946-10-20</td>\n",
       "      <td>High School</td>\n",
       "      <td>Skilled Manual</td>\n",
       "      <td>M</td>\n",
       "      <td>M</td>\n",
       "      <td>1</td>\n",
       "      <td>2</td>\n",
       "      <td>0</td>\n",
       "      <td>4</td>\n",
       "      <td>31930</td>\n",
       "    </tr>\n",
       "    <tr>\n",
       "      <th>7493</th>\n",
       "      <td>26358</td>\n",
       "      <td>Mason</td>\n",
       "      <td>Gonzalez</td>\n",
       "      <td>Hüttenstr 7005</td>\n",
       "      <td>Paderborn</td>\n",
       "      <td>Nordrhein-Westfalen</td>\n",
       "      <td>Germany</td>\n",
       "      <td>33098</td>\n",
       "      <td>1 (11) 500 555-0178</td>\n",
       "      <td>1926-08-10</td>\n",
       "      <td>High School</td>\n",
       "      <td>Manual</td>\n",
       "      <td>M</td>\n",
       "      <td>S</td>\n",
       "      <td>0</td>\n",
       "      <td>1</td>\n",
       "      <td>0</td>\n",
       "      <td>2</td>\n",
       "      <td>24797</td>\n",
       "    </tr>\n",
       "    <tr>\n",
       "      <th>5823</th>\n",
       "      <td>17494</td>\n",
       "      <td>Mathew</td>\n",
       "      <td>Alvarez</td>\n",
       "      <td>4858 Shannon Lane</td>\n",
       "      <td>North Ryde</td>\n",
       "      <td>New South Wales</td>\n",
       "      <td>Australia</td>\n",
       "      <td>2113</td>\n",
       "      <td>1 (11) 500 555-0111</td>\n",
       "      <td>1949-08-13</td>\n",
       "      <td>Partial High School</td>\n",
       "      <td>Clerical</td>\n",
       "      <td>M</td>\n",
       "      <td>M</td>\n",
       "      <td>1</td>\n",
       "      <td>2</td>\n",
       "      <td>1</td>\n",
       "      <td>2</td>\n",
       "      <td>33162</td>\n",
       "    </tr>\n",
       "    <tr>\n",
       "      <th>4128</th>\n",
       "      <td>24328</td>\n",
       "      <td>Melissa</td>\n",
       "      <td>Simmons</td>\n",
       "      <td>1955 Sequoia Drive</td>\n",
       "      <td>National City</td>\n",
       "      <td>California</td>\n",
       "      <td>United States</td>\n",
       "      <td>91950</td>\n",
       "      <td>341-555-0151</td>\n",
       "      <td>1964-05-07</td>\n",
       "      <td>Bachelors</td>\n",
       "      <td>Skilled Manual</td>\n",
       "      <td>F</td>\n",
       "      <td>S</td>\n",
       "      <td>0</td>\n",
       "      <td>2</td>\n",
       "      <td>2</td>\n",
       "      <td>4</td>\n",
       "      <td>78369</td>\n",
       "    </tr>\n",
       "    <tr>\n",
       "      <th>6963</th>\n",
       "      <td>24266</td>\n",
       "      <td>Melvin</td>\n",
       "      <td>Chander</td>\n",
       "      <td>4804 Haynes Court</td>\n",
       "      <td>Milsons Point</td>\n",
       "      <td>New South Wales</td>\n",
       "      <td>Australia</td>\n",
       "      <td>2061</td>\n",
       "      <td>1 (11) 500 555-0120</td>\n",
       "      <td>1949-02-25</td>\n",
       "      <td>Partial High School</td>\n",
       "      <td>Clerical</td>\n",
       "      <td>M</td>\n",
       "      <td>M</td>\n",
       "      <td>1</td>\n",
       "      <td>2</td>\n",
       "      <td>1</td>\n",
       "      <td>2</td>\n",
       "      <td>12333</td>\n",
       "    </tr>\n",
       "    <tr>\n",
       "      <th>5865</th>\n",
       "      <td>17543</td>\n",
       "      <td>Meredith</td>\n",
       "      <td>Martin</td>\n",
       "      <td>6868 West</td>\n",
       "      <td>Burlingame</td>\n",
       "      <td>California</td>\n",
       "      <td>United States</td>\n",
       "      <td>94010</td>\n",
       "      <td>395-555-0159</td>\n",
       "      <td>1962-08-15</td>\n",
       "      <td>Bachelors</td>\n",
       "      <td>Professional</td>\n",
       "      <td>F</td>\n",
       "      <td>S</td>\n",
       "      <td>0</td>\n",
       "      <td>1</td>\n",
       "      <td>0</td>\n",
       "      <td>1</td>\n",
       "      <td>79747</td>\n",
       "    </tr>\n",
       "    <tr>\n",
       "      <th>4711</th>\n",
       "      <td>16271</td>\n",
       "      <td>Michele</td>\n",
       "      <td>Gutierrez</td>\n",
       "      <td>Potsdamer Straße 23439</td>\n",
       "      <td>Berlin</td>\n",
       "      <td>Hamburg</td>\n",
       "      <td>Germany</td>\n",
       "      <td>10210</td>\n",
       "      <td>1 (11) 500 555-0131</td>\n",
       "      <td>1965-06-13</td>\n",
       "      <td>High School</td>\n",
       "      <td>Manual</td>\n",
       "      <td>F</td>\n",
       "      <td>S</td>\n",
       "      <td>1</td>\n",
       "      <td>1</td>\n",
       "      <td>2</td>\n",
       "      <td>2</td>\n",
       "      <td>16365</td>\n",
       "    </tr>\n",
       "    <tr>\n",
       "      <th>3187</th>\n",
       "      <td>14551</td>\n",
       "      <td>Michele</td>\n",
       "      <td>Vance</td>\n",
       "      <td>Kappellweg 242</td>\n",
       "      <td>Kiel</td>\n",
       "      <td>Saarland</td>\n",
       "      <td>Germany</td>\n",
       "      <td>24044</td>\n",
       "      <td>1 (11) 500 555-0192</td>\n",
       "      <td>1937-10-24</td>\n",
       "      <td>Bachelors</td>\n",
       "      <td>Clerical</td>\n",
       "      <td>F</td>\n",
       "      <td>M</td>\n",
       "      <td>1</td>\n",
       "      <td>0</td>\n",
       "      <td>0</td>\n",
       "      <td>1</td>\n",
       "      <td>22341</td>\n",
       "    </tr>\n",
       "    <tr>\n",
       "      <th>13948</th>\n",
       "      <td>26600</td>\n",
       "      <td>Michelle</td>\n",
       "      <td>Gray</td>\n",
       "      <td>2047 Westbury Dr</td>\n",
       "      <td>Redwood City</td>\n",
       "      <td>California</td>\n",
       "      <td>United States</td>\n",
       "      <td>94063</td>\n",
       "      <td>372-555-0129</td>\n",
       "      <td>1964-07-22</td>\n",
       "      <td>Bachelors</td>\n",
       "      <td>Skilled Manual</td>\n",
       "      <td>F</td>\n",
       "      <td>S</td>\n",
       "      <td>0</td>\n",
       "      <td>2</td>\n",
       "      <td>2</td>\n",
       "      <td>4</td>\n",
       "      <td>74613</td>\n",
       "    </tr>\n",
       "    <tr>\n",
       "      <th>6899</th>\n",
       "      <td>18689</td>\n",
       "      <td>Miguel</td>\n",
       "      <td>Miller</td>\n",
       "      <td>6696 Anchor Drive</td>\n",
       "      <td>Bothell</td>\n",
       "      <td>Washington</td>\n",
       "      <td>United States</td>\n",
       "      <td>98011</td>\n",
       "      <td>397-555-0155</td>\n",
       "      <td>1958-07-01</td>\n",
       "      <td>Graduate Degree</td>\n",
       "      <td>Professional</td>\n",
       "      <td>M</td>\n",
       "      <td>M</td>\n",
       "      <td>1</td>\n",
       "      <td>0</td>\n",
       "      <td>4</td>\n",
       "      <td>5</td>\n",
       "      <td>128167</td>\n",
       "    </tr>\n",
       "    <tr>\n",
       "      <th>9420</th>\n",
       "      <td>21554</td>\n",
       "      <td>Molly</td>\n",
       "      <td>Rana</td>\n",
       "      <td>8970 Kahrs Avenue</td>\n",
       "      <td>Goulburn</td>\n",
       "      <td>New South Wales</td>\n",
       "      <td>Australia</td>\n",
       "      <td>2580</td>\n",
       "      <td>1 (11) 500 555-0193</td>\n",
       "      <td>1973-07-24</td>\n",
       "      <td>Bachelors</td>\n",
       "      <td>Professional</td>\n",
       "      <td>F</td>\n",
       "      <td>S</td>\n",
       "      <td>0</td>\n",
       "      <td>3</td>\n",
       "      <td>0</td>\n",
       "      <td>0</td>\n",
       "      <td>97398</td>\n",
       "    </tr>\n",
       "    <tr>\n",
       "      <th>3222</th>\n",
       "      <td>15138</td>\n",
       "      <td>Monique</td>\n",
       "      <td>Hernandez</td>\n",
       "      <td>2200 Rock Oak Road</td>\n",
       "      <td>Sydney</td>\n",
       "      <td>New South Wales</td>\n",
       "      <td>Australia</td>\n",
       "      <td>1002</td>\n",
       "      <td>1 (11) 500 555-0139</td>\n",
       "      <td>1972-06-20</td>\n",
       "      <td>High School</td>\n",
       "      <td>Management</td>\n",
       "      <td>F</td>\n",
       "      <td>S</td>\n",
       "      <td>1</td>\n",
       "      <td>3</td>\n",
       "      <td>5</td>\n",
       "      <td>5</td>\n",
       "      <td>105253</td>\n",
       "    </tr>\n",
       "    <tr>\n",
       "      <th>2359</th>\n",
       "      <td>13627</td>\n",
       "      <td>Natasha</td>\n",
       "      <td>Rubio</td>\n",
       "      <td>7889 Mitchelleanjen Ln.</td>\n",
       "      <td>Darlinghurst</td>\n",
       "      <td>New South Wales</td>\n",
       "      <td>Australia</td>\n",
       "      <td>2010</td>\n",
       "      <td>1 (11) 500 555-0115</td>\n",
       "      <td>1972-07-07</td>\n",
       "      <td>Bachelors</td>\n",
       "      <td>Professional</td>\n",
       "      <td>F</td>\n",
       "      <td>M</td>\n",
       "      <td>1</td>\n",
       "      <td>3</td>\n",
       "      <td>0</td>\n",
       "      <td>0</td>\n",
       "      <td>103312</td>\n",
       "    </tr>\n",
       "    <tr>\n",
       "      <th>194</th>\n",
       "      <td>11218</td>\n",
       "      <td>Olivia</td>\n",
       "      <td>Brown</td>\n",
       "      <td>3964 Stony Hill Circle</td>\n",
       "      <td>Tacoma</td>\n",
       "      <td>Washington</td>\n",
       "      <td>United States</td>\n",
       "      <td>98403</td>\n",
       "      <td>414-555-0147</td>\n",
       "      <td>1950-09-11</td>\n",
       "      <td>Partial College</td>\n",
       "      <td>Professional</td>\n",
       "      <td>F</td>\n",
       "      <td>S</td>\n",
       "      <td>0</td>\n",
       "      <td>2</td>\n",
       "      <td>1</td>\n",
       "      <td>2</td>\n",
       "      <td>76220</td>\n",
       "    </tr>\n",
       "    <tr>\n",
       "      <th>6351</th>\n",
       "      <td>18083</td>\n",
       "      <td>Osarumwense</td>\n",
       "      <td>Agbonile</td>\n",
       "      <td>1873 Lion Circle</td>\n",
       "      <td>Bothell</td>\n",
       "      <td>Washington</td>\n",
       "      <td>United States</td>\n",
       "      <td>98011</td>\n",
       "      <td>592-555-0152</td>\n",
       "      <td>1948-04-18</td>\n",
       "      <td>Partial College</td>\n",
       "      <td>Professional</td>\n",
       "      <td>M</td>\n",
       "      <td>M</td>\n",
       "      <td>1</td>\n",
       "      <td>1</td>\n",
       "      <td>1</td>\n",
       "      <td>2</td>\n",
       "      <td>102371</td>\n",
       "    </tr>\n",
       "    <tr>\n",
       "      <th>7503</th>\n",
       "      <td>19374</td>\n",
       "      <td>Paula</td>\n",
       "      <td>Ashe</td>\n",
       "      <td>68, avenue de l´ Union Centrale</td>\n",
       "      <td>Les Ulis</td>\n",
       "      <td>Essonne</td>\n",
       "      <td>France</td>\n",
       "      <td>91940</td>\n",
       "      <td>1 (11) 500 555-0178</td>\n",
       "      <td>1975-04-02</td>\n",
       "      <td>High School</td>\n",
       "      <td>Manual</td>\n",
       "      <td>F</td>\n",
       "      <td>S</td>\n",
       "      <td>0</td>\n",
       "      <td>1</td>\n",
       "      <td>0</td>\n",
       "      <td>0</td>\n",
       "      <td>30378</td>\n",
       "    </tr>\n",
       "    <tr>\n",
       "      <th>5303</th>\n",
       "      <td>16927</td>\n",
       "      <td>Rebekah</td>\n",
       "      <td>Gonzalez</td>\n",
       "      <td>8290 Margaret Ct.</td>\n",
       "      <td>St. Leonards</td>\n",
       "      <td>New South Wales</td>\n",
       "      <td>Australia</td>\n",
       "      <td>2065</td>\n",
       "      <td>1 (11) 500 555-0156</td>\n",
       "      <td>1945-04-21</td>\n",
       "      <td>High School</td>\n",
       "      <td>Skilled Manual</td>\n",
       "      <td>F</td>\n",
       "      <td>M</td>\n",
       "      <td>1</td>\n",
       "      <td>2</td>\n",
       "      <td>0</td>\n",
       "      <td>4</td>\n",
       "      <td>14181</td>\n",
       "    </tr>\n",
       "    <tr>\n",
       "      <th>8172</th>\n",
       "      <td>24581</td>\n",
       "      <td>Reginald</td>\n",
       "      <td>Diaz</td>\n",
       "      <td>8742 Longbrood Way</td>\n",
       "      <td>Oxford</td>\n",
       "      <td>England</td>\n",
       "      <td>United Kingdom</td>\n",
       "      <td>OX1</td>\n",
       "      <td>1 (11) 500 555-0166</td>\n",
       "      <td>1947-10-13</td>\n",
       "      <td>Partial High School</td>\n",
       "      <td>Professional</td>\n",
       "      <td>M</td>\n",
       "      <td>M</td>\n",
       "      <td>1</td>\n",
       "      <td>4</td>\n",
       "      <td>5</td>\n",
       "      <td>5</td>\n",
       "      <td>146872</td>\n",
       "    </tr>\n",
       "    <tr>\n",
       "      <th>1247</th>\n",
       "      <td>27725</td>\n",
       "      <td>Samuel</td>\n",
       "      <td>Sharma</td>\n",
       "      <td>1475 Doyle</td>\n",
       "      <td>N. Vancouver</td>\n",
       "      <td>British Columbia</td>\n",
       "      <td>Canada</td>\n",
       "      <td>V7L 4J4</td>\n",
       "      <td>488-555-0164</td>\n",
       "      <td>1980-08-12</td>\n",
       "      <td>High School</td>\n",
       "      <td>Skilled Manual</td>\n",
       "      <td>M</td>\n",
       "      <td>M</td>\n",
       "      <td>0</td>\n",
       "      <td>2</td>\n",
       "      <td>0</td>\n",
       "      <td>0</td>\n",
       "      <td>58552</td>\n",
       "    </tr>\n",
       "    <tr>\n",
       "      <th>5135</th>\n",
       "      <td>18399</td>\n",
       "      <td>Sara</td>\n",
       "      <td>Torres</td>\n",
       "      <td>7740 LaCrosse Ave</td>\n",
       "      <td>Concord</td>\n",
       "      <td>California</td>\n",
       "      <td>United States</td>\n",
       "      <td>94519</td>\n",
       "      <td>793-555-0141</td>\n",
       "      <td>1962-02-09</td>\n",
       "      <td>Partial College</td>\n",
       "      <td>Professional</td>\n",
       "      <td>F</td>\n",
       "      <td>S</td>\n",
       "      <td>1</td>\n",
       "      <td>4</td>\n",
       "      <td>3</td>\n",
       "      <td>3</td>\n",
       "      <td>147228</td>\n",
       "    </tr>\n",
       "    <tr>\n",
       "      <th>4898</th>\n",
       "      <td>16476</td>\n",
       "      <td>Shawn</td>\n",
       "      <td>Xie</td>\n",
       "      <td>5, avenue de Norvege</td>\n",
       "      <td>Paris</td>\n",
       "      <td>Seine (Paris)</td>\n",
       "      <td>France</td>\n",
       "      <td>75012</td>\n",
       "      <td>1 (11) 500 555-0145</td>\n",
       "      <td>1973-12-11</td>\n",
       "      <td>Partial College</td>\n",
       "      <td>Clerical</td>\n",
       "      <td>M</td>\n",
       "      <td>S</td>\n",
       "      <td>0</td>\n",
       "      <td>1</td>\n",
       "      <td>0</td>\n",
       "      <td>0</td>\n",
       "      <td>42773</td>\n",
       "    </tr>\n",
       "    <tr>\n",
       "      <th>9194</th>\n",
       "      <td>23808</td>\n",
       "      <td>Spencer</td>\n",
       "      <td>Perry</td>\n",
       "      <td>6836 Somerset Pl.</td>\n",
       "      <td>Lincoln Acres</td>\n",
       "      <td>California</td>\n",
       "      <td>United States</td>\n",
       "      <td>91950</td>\n",
       "      <td>671-555-0133</td>\n",
       "      <td>1958-05-08</td>\n",
       "      <td>Partial College</td>\n",
       "      <td>Clerical</td>\n",
       "      <td>M</td>\n",
       "      <td>M</td>\n",
       "      <td>1</td>\n",
       "      <td>1</td>\n",
       "      <td>0</td>\n",
       "      <td>1</td>\n",
       "      <td>61721</td>\n",
       "    </tr>\n",
       "    <tr>\n",
       "      <th>6706</th>\n",
       "      <td>18479</td>\n",
       "      <td>Stacey</td>\n",
       "      <td>Chen</td>\n",
       "      <td>8470 Cliffside Drive</td>\n",
       "      <td>Burien</td>\n",
       "      <td>Washington</td>\n",
       "      <td>United States</td>\n",
       "      <td>98168</td>\n",
       "      <td>997-555-0119</td>\n",
       "      <td>1973-10-19</td>\n",
       "      <td>Partial College</td>\n",
       "      <td>Professional</td>\n",
       "      <td>F</td>\n",
       "      <td>M</td>\n",
       "      <td>1</td>\n",
       "      <td>2</td>\n",
       "      <td>0</td>\n",
       "      <td>0</td>\n",
       "      <td>74026</td>\n",
       "    </tr>\n",
       "    <tr>\n",
       "      <th>6713</th>\n",
       "      <td>18487</td>\n",
       "      <td>Tasha</td>\n",
       "      <td>Nath</td>\n",
       "      <td>4992 Yorba Linda</td>\n",
       "      <td>Sunbury</td>\n",
       "      <td>Victoria</td>\n",
       "      <td>Australia</td>\n",
       "      <td>3429</td>\n",
       "      <td>1 (11) 500 555-0159</td>\n",
       "      <td>1956-10-10</td>\n",
       "      <td>High School</td>\n",
       "      <td>Skilled Manual</td>\n",
       "      <td>F</td>\n",
       "      <td>S</td>\n",
       "      <td>0</td>\n",
       "      <td>2</td>\n",
       "      <td>0</td>\n",
       "      <td>2</td>\n",
       "      <td>72037</td>\n",
       "    </tr>\n",
       "    <tr>\n",
       "      <th>13520</th>\n",
       "      <td>26127</td>\n",
       "      <td>Terry</td>\n",
       "      <td>Chander</td>\n",
       "      <td>771 Northridge Drive</td>\n",
       "      <td>Bellevue</td>\n",
       "      <td>Washington</td>\n",
       "      <td>United States</td>\n",
       "      <td>98004</td>\n",
       "      <td>998-555-0171</td>\n",
       "      <td>1949-04-02</td>\n",
       "      <td>High School</td>\n",
       "      <td>Professional</td>\n",
       "      <td>M</td>\n",
       "      <td>M</td>\n",
       "      <td>1</td>\n",
       "      <td>2</td>\n",
       "      <td>0</td>\n",
       "      <td>4</td>\n",
       "      <td>56468</td>\n",
       "    </tr>\n",
       "    <tr>\n",
       "      <th>2138</th>\n",
       "      <td>13377</td>\n",
       "      <td>Thomas</td>\n",
       "      <td>Hernandez</td>\n",
       "      <td>7879 Mt. Etna Drive</td>\n",
       "      <td>Santa Cruz</td>\n",
       "      <td>California</td>\n",
       "      <td>United States</td>\n",
       "      <td>95062</td>\n",
       "      <td>819-555-0122</td>\n",
       "      <td>1948-03-16</td>\n",
       "      <td>Bachelors</td>\n",
       "      <td>Management</td>\n",
       "      <td>M</td>\n",
       "      <td>M</td>\n",
       "      <td>1</td>\n",
       "      <td>2</td>\n",
       "      <td>1</td>\n",
       "      <td>4</td>\n",
       "      <td>122389</td>\n",
       "    </tr>\n",
       "    <tr>\n",
       "      <th>32</th>\n",
       "      <td>15127</td>\n",
       "      <td>Wesley</td>\n",
       "      <td>Yang</td>\n",
       "      <td>74 Jamie Way</td>\n",
       "      <td>Lane Cove</td>\n",
       "      <td>New South Wales</td>\n",
       "      <td>Australia</td>\n",
       "      <td>1597</td>\n",
       "      <td>1 (11) 500 555-0188</td>\n",
       "      <td>1975-02-14</td>\n",
       "      <td>Bachelors</td>\n",
       "      <td>Professional</td>\n",
       "      <td>M</td>\n",
       "      <td>S</td>\n",
       "      <td>0</td>\n",
       "      <td>2</td>\n",
       "      <td>0</td>\n",
       "      <td>0</td>\n",
       "      <td>129497</td>\n",
       "    </tr>\n",
       "    <tr>\n",
       "      <th>445</th>\n",
       "      <td>24944</td>\n",
       "      <td>Whitney</td>\n",
       "      <td>Garcia</td>\n",
       "      <td>5854 Eagle Way</td>\n",
       "      <td>Berkeley</td>\n",
       "      <td>California</td>\n",
       "      <td>United States</td>\n",
       "      <td>94704</td>\n",
       "      <td>789-555-0192</td>\n",
       "      <td>1940-09-11</td>\n",
       "      <td>Bachelors</td>\n",
       "      <td>Management</td>\n",
       "      <td>F</td>\n",
       "      <td>M</td>\n",
       "      <td>1</td>\n",
       "      <td>2</td>\n",
       "      <td>0</td>\n",
       "      <td>3</td>\n",
       "      <td>87033</td>\n",
       "    </tr>\n",
       "  </tbody>\n",
       "</table>\n",
       "<p>115 rows × 19 columns</p>\n",
       "</div>"
      ],
      "text/plain": [
       "       CustomerID    FirstName   LastName                     AddressLine1  \\\n",
       "3393        29333         Abby   Martinez              1023 Hawkins Street   \n",
       "4463        18719      Alberto     Suarez            7289 Las Quebrados Ln   \n",
       "8081        20021    Alexander      Jones              5805 Nob Hill Drive   \n",
       "7221        20202    Alexandra      Jones                    4386 Ryan Rd.   \n",
       "2057        13289   Alexandria    Coleman               6652 Birch Park Rd   \n",
       "6459        26767       Alisha       Goel                3002 Carmel Drive   \n",
       "4230        27046      Allison     Howard            8788 Green Leaf Drive   \n",
       "34          11041       Amanda     Carter                     5826 Escobar   \n",
       "251         11279       Amanda       Cook               4098 Woodcrest Dr.   \n",
       "2989        14328       Andrea     Rogers                 9669 Cynthia Dr.   \n",
       "7639        22441       Andrea     Torres                   Herzogstr 2998   \n",
       "4552        23445         Andy    Carlson                Attaché de Presse   \n",
       "1592        26234      Antonio      Perry           3250 Golden Meadow Dr.   \n",
       "3744        24813      Armando    Schmidt               3495 Virginia Lane   \n",
       "4113        22069       Bailey       Reed           3652 Happy Valley Road   \n",
       "1205        14532      Barbara         Wu                818, rue de Berri   \n",
       "875         17390        Blake      Lewis             3127 El Camino Drive   \n",
       "675         11748        Blake       Hill                 1315 Norse Drive   \n",
       "10684       24533        Blake       Long                1761 Holbrook Dr.   \n",
       "12732       29450      Bradley     Chande           1, place de Brazaville   \n",
       "3295        14675       Brandi      Gomez                7164 Mepham Drive   \n",
       "12829       25352      Brandon   Martinez             843 Camino Verde Cr.   \n",
       "10544       22811        Brent      Stone                 7578 Sierra Road   \n",
       "1254        15042       Bryant      Perez                  1502 Marion Ct.   \n",
       "10510       22774        Caleb  Alexander                4775 Kentucky Dr.   \n",
       "4057        15531       Calvin       Raji             5415 San Gabriel Dr.   \n",
       "4525        17832      Cameron     Sharma                  Unter Linden 54   \n",
       "1923        13139       Carmen      Perez           1622 Silver Oaks Place   \n",
       "6946        29302      Carolyn  Fernandez                    5639 Lee Lane   \n",
       "6434        18175       Carrie  Hernandez        42, impasse Ste-Madeleine   \n",
       "...           ...          ...        ...                              ...   \n",
       "4326        15841         Luis       Shan                  500 35th Ave NE   \n",
       "986         19511       Marcus       Ward                  7342 Pueblo Dr.   \n",
       "10789       23077       Marvin  Hernandez                   1019 Book Road   \n",
       "7493        26358        Mason   Gonzalez                   Hüttenstr 7005   \n",
       "5823        17494       Mathew    Alvarez                4858 Shannon Lane   \n",
       "4128        24328      Melissa    Simmons               1955 Sequoia Drive   \n",
       "6963        24266       Melvin    Chander                4804 Haynes Court   \n",
       "5865        17543     Meredith     Martin                        6868 West   \n",
       "4711        16271      Michele  Gutierrez           Potsdamer Straße 23439   \n",
       "3187        14551      Michele      Vance                   Kappellweg 242   \n",
       "13948       26600     Michelle       Gray                 2047 Westbury Dr   \n",
       "6899        18689       Miguel     Miller                6696 Anchor Drive   \n",
       "9420        21554        Molly       Rana                8970 Kahrs Avenue   \n",
       "3222        15138      Monique  Hernandez               2200 Rock Oak Road   \n",
       "2359        13627      Natasha      Rubio          7889 Mitchelleanjen Ln.   \n",
       "194         11218       Olivia      Brown           3964 Stony Hill Circle   \n",
       "6351        18083  Osarumwense   Agbonile                 1873 Lion Circle   \n",
       "7503        19374        Paula       Ashe  68, avenue de l´ Union Centrale   \n",
       "5303        16927      Rebekah   Gonzalez                8290 Margaret Ct.   \n",
       "8172        24581     Reginald       Diaz               8742 Longbrood Way   \n",
       "1247        27725       Samuel     Sharma                       1475 Doyle   \n",
       "5135        18399         Sara     Torres                7740 LaCrosse Ave   \n",
       "4898        16476        Shawn        Xie             5, avenue de Norvege   \n",
       "9194        23808      Spencer      Perry                6836 Somerset Pl.   \n",
       "6706        18479       Stacey       Chen             8470 Cliffside Drive   \n",
       "6713        18487        Tasha       Nath                 4992 Yorba Linda   \n",
       "13520       26127        Terry    Chander             771 Northridge Drive   \n",
       "2138        13377       Thomas  Hernandez              7879 Mt. Etna Drive   \n",
       "32          15127       Wesley       Yang                     74 Jamie Way   \n",
       "445         24944      Whitney     Garcia                   5854 Eagle Way   \n",
       "\n",
       "                  City    StateProvinceName CountryRegionName PostalCode  \\\n",
       "3393        Townsville           Queensland         Australia       4810   \n",
       "4463            Rhodes      New South Wales         Australia       2138   \n",
       "8081             Haney     British Columbia            Canada    V2W 1W2   \n",
       "7221             Haney     British Columbia            Canada    V2W 1W2   \n",
       "2057         Cliffside     British Columbia            Canada    V8Y 1L1   \n",
       "6459            Rhodes      New South Wales         Australia       2138   \n",
       "4230            Downey           California     United States      90241   \n",
       "34            Glendale           California     United States      91203   \n",
       "251            Everett           Washington     United States      98201   \n",
       "2989           Shawnee     British Columbia            Canada    V9B 2C3   \n",
       "7639               Hof               Bayern           Germany      95010   \n",
       "4552             Roncq                 Nord            France      59223   \n",
       "1592          Berkeley           California     United States      94704   \n",
       "3744           Concord           California     United States      94519   \n",
       "4113     Beverly Hills           California     United States      90210   \n",
       "1205        Courbevoie       Hauts de Seine            France      92400   \n",
       "875          Milwaukie               Oregon     United States      97222   \n",
       "675           Victoria     British Columbia            Canada        V8V   \n",
       "10684    Esher-Molesey              England    United Kingdom       EM15   \n",
       "12732        Colomiers      Garonne (Haute)            France      31770   \n",
       "3295        Hervey Bay           Queensland         Australia       4655   \n",
       "12829      Lake Oswego               Oregon     United States      97034   \n",
       "10544  Gloucestershire              England    United Kingdom    GL7 1RY   \n",
       "1254     Coffs Harbour      New South Wales         Australia       2450   \n",
       "10510           Monroe           Washington     United States      98272   \n",
       "4057           Bothell           Washington     United States      98011   \n",
       "4525       Neunkirchen             Saarland           Germany      66578   \n",
       "1923         Lane Cove      New South Wales         Australia       1597   \n",
       "6946           Geelong             Victoria         Australia       3220   \n",
       "6434             Paris        Seine (Paris)            France      75007   \n",
       "...                ...                  ...               ...        ...   \n",
       "4326       Los Angeles           California     United States      90012   \n",
       "986             Oxford              England    United Kingdom        OX1   \n",
       "10789           Rhodes      New South Wales         Australia       2138   \n",
       "7493         Paderborn  Nordrhein-Westfalen           Germany      33098   \n",
       "5823        North Ryde      New South Wales         Australia       2113   \n",
       "4128     National City           California     United States      91950   \n",
       "6963     Milsons Point      New South Wales         Australia       2061   \n",
       "5865        Burlingame           California     United States      94010   \n",
       "4711            Berlin              Hamburg           Germany      10210   \n",
       "3187              Kiel             Saarland           Germany      24044   \n",
       "13948     Redwood City           California     United States      94063   \n",
       "6899           Bothell           Washington     United States      98011   \n",
       "9420          Goulburn      New South Wales         Australia       2580   \n",
       "3222            Sydney      New South Wales         Australia       1002   \n",
       "2359      Darlinghurst      New South Wales         Australia       2010   \n",
       "194             Tacoma           Washington     United States      98403   \n",
       "6351           Bothell           Washington     United States      98011   \n",
       "7503          Les Ulis              Essonne            France      91940   \n",
       "5303      St. Leonards      New South Wales         Australia       2065   \n",
       "8172            Oxford              England    United Kingdom        OX1   \n",
       "1247      N. Vancouver     British Columbia            Canada    V7L 4J4   \n",
       "5135           Concord           California     United States      94519   \n",
       "4898             Paris        Seine (Paris)            France      75012   \n",
       "9194     Lincoln Acres           California     United States      91950   \n",
       "6706            Burien           Washington     United States      98168   \n",
       "6713           Sunbury             Victoria         Australia       3429   \n",
       "13520         Bellevue           Washington     United States      98004   \n",
       "2138        Santa Cruz           California     United States      95062   \n",
       "32           Lane Cove      New South Wales         Australia       1597   \n",
       "445           Berkeley           California     United States      94704   \n",
       "\n",
       "               PhoneNumber   BirthDate            Education      Occupation  \\\n",
       "3393   1 (11) 500 555-0150  1937-09-10           Bachelors       Management   \n",
       "4463   1 (11) 500 555-0182  1964-10-20           Bachelors     Professional   \n",
       "8081          172-555-0116  1965-06-28           Bachelors   Skilled Manual   \n",
       "7221          642-555-0111  1959-12-02      Graduate Degree    Professional   \n",
       "2057          245-555-0181  1962-02-26      Partial College    Professional   \n",
       "6459   1 (11) 500 555-0133  1957-10-25      Partial College  Skilled Manual   \n",
       "4230          548-555-0110  1958-06-16      Partial College        Clerical   \n",
       "34            295-555-0145  1977-10-16      Partial College  Skilled Manual   \n",
       "251           252-555-0177  1963-09-12      Partial College    Professional   \n",
       "2989          830-555-0152  1976-08-08          High School  Skilled Manual   \n",
       "7639   1 (11) 500 555-0112  1969-02-20           Bachelors         Clerical   \n",
       "4552   1 (11) 500 555-0155  1974-11-08      Partial College        Clerical   \n",
       "1592          267-555-0111  1975-12-27      Partial College        Clerical   \n",
       "3744          249-555-0138  1966-10-21           Bachelors   Skilled Manual   \n",
       "4113          879-555-0197  1963-12-06      Partial College    Professional   \n",
       "1205   1 (11) 500 555-0150  1962-11-21      Graduate Degree        Clerical   \n",
       "875           177-555-0182  1972-10-08      Graduate Degree  Skilled Manual   \n",
       "675           171-555-0174  1958-07-18      Graduate Degree    Professional   \n",
       "10684  1 (11) 500 555-0178  1958-08-27      Partial College    Professional   \n",
       "12732  1 (11) 500 555-0169  1942-11-07      Partial College          Manual   \n",
       "3295   1 (11) 500 555-0157  1967-08-06           Bachelors     Professional   \n",
       "12829         327-555-0193  1957-02-14  Partial High School        Clerical   \n",
       "10544  1 (11) 500 555-0135  1945-06-16           Bachelors       Management   \n",
       "1254   1 (11) 500 555-0189  1977-01-21      Partial College          Manual   \n",
       "10510         670-555-0141  1950-10-19      Partial College    Professional   \n",
       "4057          230-555-0191  1963-06-14           Bachelors     Professional   \n",
       "4525   1 (11) 500 555-0158  1962-12-11      Partial College        Clerical   \n",
       "1923   1 (11) 500 555-0195  1956-02-09      Partial College  Skilled Manual   \n",
       "6946   1 (11) 500 555-0134  1964-01-19           Bachelors     Professional   \n",
       "6434   1 (11) 500 555-0114  1950-05-16          High School      Management   \n",
       "...                    ...         ...                  ...             ...   \n",
       "4326          716-555-0173  1972-05-14           Bachelors       Management   \n",
       "986    1 (11) 500 555-0113  1976-05-19      Partial College        Clerical   \n",
       "10789  1 (11) 500 555-0112  1946-10-20          High School  Skilled Manual   \n",
       "7493   1 (11) 500 555-0178  1926-08-10          High School          Manual   \n",
       "5823   1 (11) 500 555-0111  1949-08-13  Partial High School        Clerical   \n",
       "4128          341-555-0151  1964-05-07           Bachelors   Skilled Manual   \n",
       "6963   1 (11) 500 555-0120  1949-02-25  Partial High School        Clerical   \n",
       "5865          395-555-0159  1962-08-15           Bachelors     Professional   \n",
       "4711   1 (11) 500 555-0131  1965-06-13          High School          Manual   \n",
       "3187   1 (11) 500 555-0192  1937-10-24           Bachelors         Clerical   \n",
       "13948         372-555-0129  1964-07-22           Bachelors   Skilled Manual   \n",
       "6899          397-555-0155  1958-07-01      Graduate Degree    Professional   \n",
       "9420   1 (11) 500 555-0193  1973-07-24           Bachelors     Professional   \n",
       "3222   1 (11) 500 555-0139  1972-06-20          High School      Management   \n",
       "2359   1 (11) 500 555-0115  1972-07-07           Bachelors     Professional   \n",
       "194           414-555-0147  1950-09-11      Partial College    Professional   \n",
       "6351          592-555-0152  1948-04-18      Partial College    Professional   \n",
       "7503   1 (11) 500 555-0178  1975-04-02          High School          Manual   \n",
       "5303   1 (11) 500 555-0156  1945-04-21          High School  Skilled Manual   \n",
       "8172   1 (11) 500 555-0166  1947-10-13  Partial High School    Professional   \n",
       "1247          488-555-0164  1980-08-12          High School  Skilled Manual   \n",
       "5135          793-555-0141  1962-02-09      Partial College    Professional   \n",
       "4898   1 (11) 500 555-0145  1973-12-11      Partial College        Clerical   \n",
       "9194          671-555-0133  1958-05-08      Partial College        Clerical   \n",
       "6706          997-555-0119  1973-10-19      Partial College    Professional   \n",
       "6713   1 (11) 500 555-0159  1956-10-10          High School  Skilled Manual   \n",
       "13520         998-555-0171  1949-04-02          High School    Professional   \n",
       "2138          819-555-0122  1948-03-16           Bachelors       Management   \n",
       "32     1 (11) 500 555-0188  1975-02-14           Bachelors     Professional   \n",
       "445           789-555-0192  1940-09-11           Bachelors       Management   \n",
       "\n",
       "      Gender MaritalStatus  HomeOwnerFlag  NumberCarsOwned  \\\n",
       "3393       F             S              0                2   \n",
       "4463       M             M              1                3   \n",
       "8081       M             M              1                0   \n",
       "7221       F             M              1                3   \n",
       "2057       F             M              1                3   \n",
       "6459       F             S              0                1   \n",
       "4230       F             M              1                1   \n",
       "34         F             M              1                2   \n",
       "251        F             M              1                1   \n",
       "2989       F             S              0                2   \n",
       "7639       F             S              1                0   \n",
       "4552       M             S              1                1   \n",
       "1592       M             S              1                0   \n",
       "3744       M             M              1                1   \n",
       "4113       F             S              1                2   \n",
       "1205       F             M              1                0   \n",
       "875        M             M              1                0   \n",
       "675        M             M              1                1   \n",
       "10684      M             S              0                0   \n",
       "12732      M             S              1                1   \n",
       "3295       F             M              0                4   \n",
       "12829      M             M              0                2   \n",
       "10544      M             M              1                4   \n",
       "1254       M             S              0                0   \n",
       "10510      M             M              1                2   \n",
       "4057       M             M              1                2   \n",
       "4525       M             M              1                1   \n",
       "1923       F             S              0                1   \n",
       "6946       F             S              0                1   \n",
       "6434       F             M              0                3   \n",
       "...      ...           ...            ...              ...   \n",
       "4326       M             S              0                1   \n",
       "986        M             S              0                1   \n",
       "10789      M             M              1                2   \n",
       "7493       M             S              0                1   \n",
       "5823       M             M              1                2   \n",
       "4128       F             S              0                2   \n",
       "6963       M             M              1                2   \n",
       "5865       F             S              0                1   \n",
       "4711       F             S              1                1   \n",
       "3187       F             M              1                0   \n",
       "13948      F             S              0                2   \n",
       "6899       M             M              1                0   \n",
       "9420       F             S              0                3   \n",
       "3222       F             S              1                3   \n",
       "2359       F             M              1                3   \n",
       "194        F             S              0                2   \n",
       "6351       M             M              1                1   \n",
       "7503       F             S              0                1   \n",
       "5303       F             M              1                2   \n",
       "8172       M             M              1                4   \n",
       "1247       M             M              0                2   \n",
       "5135       F             S              1                4   \n",
       "4898       M             S              0                1   \n",
       "9194       M             M              1                1   \n",
       "6706       F             M              1                2   \n",
       "6713       F             S              0                2   \n",
       "13520      M             M              1                2   \n",
       "2138       M             M              1                2   \n",
       "32         M             S              0                2   \n",
       "445        F             M              1                2   \n",
       "\n",
       "       NumberChildrenAtHome  TotalChildren  YearlyIncome  \n",
       "3393                      0              2         58892  \n",
       "4463                      4              4        106313  \n",
       "8081                      4              4        118085  \n",
       "7221                      5              5         90140  \n",
       "2057                      4              5         81064  \n",
       "6459                      0              1         72107  \n",
       "4230                      0              1         45275  \n",
       "34                        0              0         78170  \n",
       "251                       0              0         85754  \n",
       "2989                      0              0         51443  \n",
       "7639                      0              1         47701  \n",
       "4552                      0              0         45564  \n",
       "1592                      3              3         63457  \n",
       "3744                      3              3        116949  \n",
       "4113                      2              2        107768  \n",
       "1205                      0              1         31886  \n",
       "875                       0              1        103142  \n",
       "675                       4              5        121938  \n",
       "10684                     4              4        160455  \n",
       "12732                     0              2         19143  \n",
       "3295                      5              5         88923  \n",
       "12829                     1              2         18570  \n",
       "10544                     4              4        163032  \n",
       "1254                      0              0         25281  \n",
       "10510                     1              2         97130  \n",
       "4057                      2              4        101164  \n",
       "4525                      0              1         61999  \n",
       "1923                      0              1         59605  \n",
       "6946                      0              0         90449  \n",
       "6434                      1              4         98788  \n",
       "...                     ...            ...           ...  \n",
       "4326                      0              0        127851  \n",
       "986                       0              0         47002  \n",
       "10789                     0              4         31930  \n",
       "7493                      0              2         24797  \n",
       "5823                      1              2         33162  \n",
       "4128                      2              4         78369  \n",
       "6963                      1              2         12333  \n",
       "5865                      0              1         79747  \n",
       "4711                      2              2         16365  \n",
       "3187                      0              1         22341  \n",
       "13948                     2              4         74613  \n",
       "6899                      4              5        128167  \n",
       "9420                      0              0         97398  \n",
       "3222                      5              5        105253  \n",
       "2359                      0              0        103312  \n",
       "194                       1              2         76220  \n",
       "6351                      1              2        102371  \n",
       "7503                      0              0         30378  \n",
       "5303                      0              4         14181  \n",
       "8172                      5              5        146872  \n",
       "1247                      0              0         58552  \n",
       "5135                      3              3        147228  \n",
       "4898                      0              0         42773  \n",
       "9194                      0              1         61721  \n",
       "6706                      0              0         74026  \n",
       "6713                      0              2         72037  \n",
       "13520                     0              4         56468  \n",
       "2138                      1              4        122389  \n",
       "32                        0              0        129497  \n",
       "445                       0              3         87033  \n",
       "\n",
       "[115 rows x 19 columns]"
      ]
     },
     "execution_count": 7,
     "metadata": {},
     "output_type": "execute_result"
    }
   ],
   "source": [
    "# Identify duplicates. We consider rows with identical first_name, last_name and birthdate as duplicates.\n",
    "# We keep the most recent version\n",
    "\n",
    "print(\"The duplicates to remove are: \")\n",
    "print(\"-------------------------------\")\n",
    "\n",
    "adventure_works[adventure_works.duplicated(subset=['FirstName', 'LastName', 'BirthDate'], keep='last')].sort_values(axis=0, by='FirstName')"
   ]
  },
  {
   "cell_type": "markdown",
   "metadata": {},
   "source": [
    "There are 115 duplicates that we need to remove. From the previous table, we see that there are two rows for the customer *Amanda Cook*."
   ]
  },
  {
   "cell_type": "code",
   "execution_count": 8,
   "metadata": {
    "collapsed": true
   },
   "outputs": [
    {
     "name": "stdout",
     "output_type": "stream",
     "text": [
      "Entries for the customer 'Amanda Cook'\n",
      "--------------------------------------\n"
     ]
    },
    {
     "data": {
      "text/html": [
       "<div>\n",
       "<style scoped>\n",
       "    .dataframe tbody tr th:only-of-type {\n",
       "        vertical-align: middle;\n",
       "    }\n",
       "\n",
       "    .dataframe tbody tr th {\n",
       "        vertical-align: top;\n",
       "    }\n",
       "\n",
       "    .dataframe thead th {\n",
       "        text-align: right;\n",
       "    }\n",
       "</style>\n",
       "<table border=\"1\" class=\"dataframe\">\n",
       "  <thead>\n",
       "    <tr style=\"text-align: right;\">\n",
       "      <th></th>\n",
       "      <th>CustomerID</th>\n",
       "      <th>FirstName</th>\n",
       "      <th>LastName</th>\n",
       "      <th>AddressLine1</th>\n",
       "      <th>City</th>\n",
       "      <th>StateProvinceName</th>\n",
       "      <th>CountryRegionName</th>\n",
       "      <th>PostalCode</th>\n",
       "      <th>PhoneNumber</th>\n",
       "      <th>BirthDate</th>\n",
       "      <th>Education</th>\n",
       "      <th>Occupation</th>\n",
       "      <th>Gender</th>\n",
       "      <th>MaritalStatus</th>\n",
       "      <th>HomeOwnerFlag</th>\n",
       "      <th>NumberCarsOwned</th>\n",
       "      <th>NumberChildrenAtHome</th>\n",
       "      <th>TotalChildren</th>\n",
       "      <th>YearlyIncome</th>\n",
       "    </tr>\n",
       "  </thead>\n",
       "  <tbody>\n",
       "    <tr>\n",
       "      <th>251</th>\n",
       "      <td>11279</td>\n",
       "      <td>Amanda</td>\n",
       "      <td>Cook</td>\n",
       "      <td>4098 Woodcrest Dr.</td>\n",
       "      <td>Everett</td>\n",
       "      <td>Washington</td>\n",
       "      <td>United States</td>\n",
       "      <td>98201</td>\n",
       "      <td>252-555-0177</td>\n",
       "      <td>1963-09-12</td>\n",
       "      <td>Partial College</td>\n",
       "      <td>Professional</td>\n",
       "      <td>F</td>\n",
       "      <td>M</td>\n",
       "      <td>1</td>\n",
       "      <td>1</td>\n",
       "      <td>0</td>\n",
       "      <td>0</td>\n",
       "      <td>85754</td>\n",
       "    </tr>\n",
       "    <tr>\n",
       "      <th>252</th>\n",
       "      <td>11279</td>\n",
       "      <td>Amanda</td>\n",
       "      <td>Cook</td>\n",
       "      <td>9187 Vista Del Sol</td>\n",
       "      <td>Everett</td>\n",
       "      <td>Washington</td>\n",
       "      <td>United States</td>\n",
       "      <td>98201</td>\n",
       "      <td>252-555-0177</td>\n",
       "      <td>1963-09-12</td>\n",
       "      <td>Partial College</td>\n",
       "      <td>Professional</td>\n",
       "      <td>F</td>\n",
       "      <td>M</td>\n",
       "      <td>1</td>\n",
       "      <td>1</td>\n",
       "      <td>0</td>\n",
       "      <td>0</td>\n",
       "      <td>86138</td>\n",
       "    </tr>\n",
       "  </tbody>\n",
       "</table>\n",
       "</div>"
      ],
      "text/plain": [
       "     CustomerID FirstName LastName        AddressLine1     City  \\\n",
       "251       11279    Amanda     Cook  4098 Woodcrest Dr.  Everett   \n",
       "252       11279    Amanda     Cook  9187 Vista Del Sol  Everett   \n",
       "\n",
       "    StateProvinceName CountryRegionName PostalCode   PhoneNumber   BirthDate  \\\n",
       "251        Washington     United States      98201  252-555-0177  1963-09-12   \n",
       "252        Washington     United States      98201  252-555-0177  1963-09-12   \n",
       "\n",
       "           Education    Occupation Gender MaritalStatus  HomeOwnerFlag  \\\n",
       "251  Partial College  Professional      F             M              1   \n",
       "252  Partial College  Professional      F             M              1   \n",
       "\n",
       "     NumberCarsOwned  NumberChildrenAtHome  TotalChildren  YearlyIncome  \n",
       "251                1                     0              0         85754  \n",
       "252                1                     0              0         86138  "
      ]
     },
     "execution_count": 8,
     "metadata": {},
     "output_type": "execute_result"
    }
   ],
   "source": [
    "# Print the entries related to the customer 'Amanda Cook'\n",
    "print(\"Entries for the customer 'Amanda Cook'\")\n",
    "print(\"--------------------------------------\")\n",
    "adventure_works[(adventure_works['FirstName'] == 'Amanda') & (adventure_works['LastName'] == 'Cook')]"
   ]
  },
  {
   "cell_type": "markdown",
   "metadata": {},
   "source": [
    "The most recent version for this customer is the one with the index **252**. This is the entry we need to keep."
   ]
  },
  {
   "cell_type": "code",
   "execution_count": 9,
   "metadata": {},
   "outputs": [],
   "source": [
    "# We remove the duplicates and create a new dataframe adv_updated with no duplicates\n",
    "\n",
    "adv_updated = adventure_works.drop_duplicates(subset=['FirstName', 'LastName', 'BirthDate'], keep='last')"
   ]
  },
  {
   "cell_type": "markdown",
   "metadata": {},
   "source": [
    "Let's check if the results for *Amanda Cook* are the expected ones."
   ]
  },
  {
   "cell_type": "code",
   "execution_count": 10,
   "metadata": {
    "collapsed": true
   },
   "outputs": [
    {
     "name": "stdout",
     "output_type": "stream",
     "text": [
      "Index 252! The results are the expected ones\n",
      "--------------------------------------------\n"
     ]
    },
    {
     "data": {
      "text/html": [
       "<div>\n",
       "<style scoped>\n",
       "    .dataframe tbody tr th:only-of-type {\n",
       "        vertical-align: middle;\n",
       "    }\n",
       "\n",
       "    .dataframe tbody tr th {\n",
       "        vertical-align: top;\n",
       "    }\n",
       "\n",
       "    .dataframe thead th {\n",
       "        text-align: right;\n",
       "    }\n",
       "</style>\n",
       "<table border=\"1\" class=\"dataframe\">\n",
       "  <thead>\n",
       "    <tr style=\"text-align: right;\">\n",
       "      <th></th>\n",
       "      <th>CustomerID</th>\n",
       "      <th>FirstName</th>\n",
       "      <th>LastName</th>\n",
       "      <th>AddressLine1</th>\n",
       "      <th>City</th>\n",
       "      <th>StateProvinceName</th>\n",
       "      <th>CountryRegionName</th>\n",
       "      <th>PostalCode</th>\n",
       "      <th>PhoneNumber</th>\n",
       "      <th>BirthDate</th>\n",
       "      <th>Education</th>\n",
       "      <th>Occupation</th>\n",
       "      <th>Gender</th>\n",
       "      <th>MaritalStatus</th>\n",
       "      <th>HomeOwnerFlag</th>\n",
       "      <th>NumberCarsOwned</th>\n",
       "      <th>NumberChildrenAtHome</th>\n",
       "      <th>TotalChildren</th>\n",
       "      <th>YearlyIncome</th>\n",
       "    </tr>\n",
       "  </thead>\n",
       "  <tbody>\n",
       "    <tr>\n",
       "      <th>252</th>\n",
       "      <td>11279</td>\n",
       "      <td>Amanda</td>\n",
       "      <td>Cook</td>\n",
       "      <td>9187 Vista Del Sol</td>\n",
       "      <td>Everett</td>\n",
       "      <td>Washington</td>\n",
       "      <td>United States</td>\n",
       "      <td>98201</td>\n",
       "      <td>252-555-0177</td>\n",
       "      <td>1963-09-12</td>\n",
       "      <td>Partial College</td>\n",
       "      <td>Professional</td>\n",
       "      <td>F</td>\n",
       "      <td>M</td>\n",
       "      <td>1</td>\n",
       "      <td>1</td>\n",
       "      <td>0</td>\n",
       "      <td>0</td>\n",
       "      <td>86138</td>\n",
       "    </tr>\n",
       "  </tbody>\n",
       "</table>\n",
       "</div>"
      ],
      "text/plain": [
       "     CustomerID FirstName LastName        AddressLine1     City  \\\n",
       "252       11279    Amanda     Cook  9187 Vista Del Sol  Everett   \n",
       "\n",
       "    StateProvinceName CountryRegionName PostalCode   PhoneNumber   BirthDate  \\\n",
       "252        Washington     United States      98201  252-555-0177  1963-09-12   \n",
       "\n",
       "           Education    Occupation Gender MaritalStatus  HomeOwnerFlag  \\\n",
       "252  Partial College  Professional      F             M              1   \n",
       "\n",
       "     NumberCarsOwned  NumberChildrenAtHome  TotalChildren  YearlyIncome  \n",
       "252                1                     0              0         86138  "
      ]
     },
     "execution_count": 10,
     "metadata": {},
     "output_type": "execute_result"
    }
   ],
   "source": [
    "print(\"Index 252! The results are the expected ones\")\n",
    "print(\"--------------------------------------------\")\n",
    "adv_updated[(adv_updated['FirstName'] == 'Amanda') & (adv_updated['LastName'] == 'Cook')]"
   ]
  },
  {
   "cell_type": "code",
   "execution_count": 11,
   "metadata": {
    "collapsed": true
   },
   "outputs": [
    {
     "name": "stdout",
     "output_type": "stream",
     "text": [
      "Remaning Duplicates\n"
     ]
    },
    {
     "data": {
      "text/html": [
       "<div>\n",
       "<style scoped>\n",
       "    .dataframe tbody tr th:only-of-type {\n",
       "        vertical-align: middle;\n",
       "    }\n",
       "\n",
       "    .dataframe tbody tr th {\n",
       "        vertical-align: top;\n",
       "    }\n",
       "\n",
       "    .dataframe thead th {\n",
       "        text-align: right;\n",
       "    }\n",
       "</style>\n",
       "<table border=\"1\" class=\"dataframe\">\n",
       "  <thead>\n",
       "    <tr style=\"text-align: right;\">\n",
       "      <th></th>\n",
       "      <th>CustomerID</th>\n",
       "      <th>FirstName</th>\n",
       "      <th>LastName</th>\n",
       "      <th>AddressLine1</th>\n",
       "      <th>City</th>\n",
       "      <th>StateProvinceName</th>\n",
       "      <th>CountryRegionName</th>\n",
       "      <th>PostalCode</th>\n",
       "      <th>PhoneNumber</th>\n",
       "      <th>BirthDate</th>\n",
       "      <th>Education</th>\n",
       "      <th>Occupation</th>\n",
       "      <th>Gender</th>\n",
       "      <th>MaritalStatus</th>\n",
       "      <th>HomeOwnerFlag</th>\n",
       "      <th>NumberCarsOwned</th>\n",
       "      <th>NumberChildrenAtHome</th>\n",
       "      <th>TotalChildren</th>\n",
       "      <th>YearlyIncome</th>\n",
       "    </tr>\n",
       "  </thead>\n",
       "  <tbody>\n",
       "  </tbody>\n",
       "</table>\n",
       "</div>"
      ],
      "text/plain": [
       "Empty DataFrame\n",
       "Columns: [CustomerID, FirstName, LastName, AddressLine1, City, StateProvinceName, CountryRegionName, PostalCode, PhoneNumber, BirthDate, Education, Occupation, Gender, MaritalStatus, HomeOwnerFlag, NumberCarsOwned, NumberChildrenAtHome, TotalChildren, YearlyIncome]\n",
       "Index: []"
      ]
     },
     "execution_count": 11,
     "metadata": {},
     "output_type": "execute_result"
    }
   ],
   "source": [
    "# We check that the duplicates have been removed\n",
    "print(\"Remaning Duplicates\")\n",
    "\n",
    "adv_updated[adv_updated.duplicated(subset=['FirstName', 'LastName', 'BirthDate'], keep='last')].sort_values(axis=0, by='FirstName')"
   ]
  },
  {
   "cell_type": "code",
   "execution_count": 12,
   "metadata": {
    "collapsed": true
   },
   "outputs": [
    {
     "data": {
      "text/plain": [
       "(16404, 19)"
      ]
     },
     "execution_count": 12,
     "metadata": {},
     "output_type": "execute_result"
    }
   ],
   "source": [
    "# print the shape of the updated dataframe\n",
    "adv_updated.shape"
   ]
  },
  {
   "cell_type": "markdown",
   "metadata": {},
   "source": [
    "The new dataframe adv_updated contains now **16404** rows. We see that there are no remaining duplicates for the specified criterias. Let's have a look at the *aw_avmonthspend* dataframe."
   ]
  },
  {
   "cell_type": "code",
   "execution_count": 13,
   "metadata": {
    "collapsed": true
   },
   "outputs": [
    {
     "data": {
      "text/html": [
       "<div>\n",
       "<style scoped>\n",
       "    .dataframe tbody tr th:only-of-type {\n",
       "        vertical-align: middle;\n",
       "    }\n",
       "\n",
       "    .dataframe tbody tr th {\n",
       "        vertical-align: top;\n",
       "    }\n",
       "\n",
       "    .dataframe thead th {\n",
       "        text-align: right;\n",
       "    }\n",
       "</style>\n",
       "<table border=\"1\" class=\"dataframe\">\n",
       "  <thead>\n",
       "    <tr style=\"text-align: right;\">\n",
       "      <th></th>\n",
       "      <th>CustomerID</th>\n",
       "      <th>AveMonthSpend</th>\n",
       "    </tr>\n",
       "  </thead>\n",
       "  <tbody>\n",
       "    <tr>\n",
       "      <th>0</th>\n",
       "      <td>11000</td>\n",
       "      <td>89</td>\n",
       "    </tr>\n",
       "    <tr>\n",
       "      <th>1</th>\n",
       "      <td>11001</td>\n",
       "      <td>117</td>\n",
       "    </tr>\n",
       "    <tr>\n",
       "      <th>2</th>\n",
       "      <td>11002</td>\n",
       "      <td>123</td>\n",
       "    </tr>\n",
       "    <tr>\n",
       "      <th>3</th>\n",
       "      <td>11003</td>\n",
       "      <td>50</td>\n",
       "    </tr>\n",
       "    <tr>\n",
       "      <th>4</th>\n",
       "      <td>11004</td>\n",
       "      <td>95</td>\n",
       "    </tr>\n",
       "  </tbody>\n",
       "</table>\n",
       "</div>"
      ],
      "text/plain": [
       "   CustomerID  AveMonthSpend\n",
       "0       11000             89\n",
       "1       11001            117\n",
       "2       11002            123\n",
       "3       11003             50\n",
       "4       11004             95"
      ]
     },
     "execution_count": 13,
     "metadata": {},
     "output_type": "execute_result"
    }
   ],
   "source": [
    "# Print the first elements of aw_avmonthspend\n",
    "aw_avmonthspend.head()"
   ]
  },
  {
   "cell_type": "code",
   "execution_count": 14,
   "metadata": {},
   "outputs": [
    {
     "name": "stdout",
     "output_type": "stream",
     "text": [
      "<class 'pandas.core.frame.DataFrame'>\n",
      "RangeIndex: 16519 entries, 0 to 16518\n",
      "Data columns (total 2 columns):\n",
      "CustomerID       16519 non-null int64\n",
      "AveMonthSpend    16519 non-null int64\n",
      "dtypes: int64(2)\n",
      "memory usage: 258.2 KB\n"
     ]
    }
   ],
   "source": [
    "# Get more infos about aw_avmonthspend\n",
    "aw_avmonthspend.info()"
   ]
  },
  {
   "cell_type": "markdown",
   "metadata": {},
   "source": [
    "The dataframe *aw_avmonthspend* doesn't contain null values. What about the duplicates?"
   ]
  },
  {
   "cell_type": "code",
   "execution_count": 15,
   "metadata": {
    "collapsed": true
   },
   "outputs": [
    {
     "data": {
      "text/plain": [
       "False    16404\n",
       "dtype: int64"
      ]
     },
     "execution_count": 15,
     "metadata": {},
     "output_type": "execute_result"
    }
   ],
   "source": [
    "# Remove duplicated rows. We identify duplicated rows as rows with identical value for the CustomerID column\n",
    "\n",
    "aw_avupdated = aw_avmonthspend.drop_duplicates(subset=['CustomerID'], keep='last')\n",
    "\n",
    "# Check to see if the duplicates have been removed\n",
    "aw_avupdated.duplicated(subset=['CustomerID']).value_counts()"
   ]
  },
  {
   "cell_type": "markdown",
   "metadata": {},
   "source": [
    "After removing duplicated, we created a new dataframe *aw_updated* which contains no duplicates. This new dataframe has **16404** rows. \n",
    "\n",
    "We can inspect the dataframe *aw_bikebuyer* now."
   ]
  },
  {
   "cell_type": "code",
   "execution_count": 16,
   "metadata": {
    "collapsed": true
   },
   "outputs": [
    {
     "data": {
      "text/html": [
       "<div>\n",
       "<style scoped>\n",
       "    .dataframe tbody tr th:only-of-type {\n",
       "        vertical-align: middle;\n",
       "    }\n",
       "\n",
       "    .dataframe tbody tr th {\n",
       "        vertical-align: top;\n",
       "    }\n",
       "\n",
       "    .dataframe thead th {\n",
       "        text-align: right;\n",
       "    }\n",
       "</style>\n",
       "<table border=\"1\" class=\"dataframe\">\n",
       "  <thead>\n",
       "    <tr style=\"text-align: right;\">\n",
       "      <th></th>\n",
       "      <th>CustomerID</th>\n",
       "      <th>BikeBuyer</th>\n",
       "    </tr>\n",
       "  </thead>\n",
       "  <tbody>\n",
       "    <tr>\n",
       "      <th>0</th>\n",
       "      <td>11000</td>\n",
       "      <td>0</td>\n",
       "    </tr>\n",
       "    <tr>\n",
       "      <th>1</th>\n",
       "      <td>11001</td>\n",
       "      <td>1</td>\n",
       "    </tr>\n",
       "    <tr>\n",
       "      <th>2</th>\n",
       "      <td>11002</td>\n",
       "      <td>0</td>\n",
       "    </tr>\n",
       "    <tr>\n",
       "      <th>3</th>\n",
       "      <td>11003</td>\n",
       "      <td>0</td>\n",
       "    </tr>\n",
       "    <tr>\n",
       "      <th>4</th>\n",
       "      <td>11004</td>\n",
       "      <td>1</td>\n",
       "    </tr>\n",
       "  </tbody>\n",
       "</table>\n",
       "</div>"
      ],
      "text/plain": [
       "   CustomerID  BikeBuyer\n",
       "0       11000          0\n",
       "1       11001          1\n",
       "2       11002          0\n",
       "3       11003          0\n",
       "4       11004          1"
      ]
     },
     "execution_count": 16,
     "metadata": {},
     "output_type": "execute_result"
    }
   ],
   "source": [
    "# Print the first elements \n",
    "aw_bikebuyer.head()"
   ]
  },
  {
   "cell_type": "code",
   "execution_count": 17,
   "metadata": {},
   "outputs": [
    {
     "name": "stdout",
     "output_type": "stream",
     "text": [
      "<class 'pandas.core.frame.DataFrame'>\n",
      "RangeIndex: 16519 entries, 0 to 16518\n",
      "Data columns (total 2 columns):\n",
      "CustomerID    16519 non-null int64\n",
      "BikeBuyer     16519 non-null int64\n",
      "dtypes: int64(2)\n",
      "memory usage: 258.2 KB\n"
     ]
    }
   ],
   "source": [
    "# Get general infos about the dataframe\n",
    "aw_bikebuyer.info()"
   ]
  },
  {
   "cell_type": "markdown",
   "metadata": {},
   "source": [
    "No null values have been identified. Let's check for duplicated values"
   ]
  },
  {
   "cell_type": "code",
   "execution_count": 18,
   "metadata": {
    "collapsed": true
   },
   "outputs": [
    {
     "data": {
      "text/plain": [
       "False    16404\n",
       "True       115\n",
       "dtype: int64"
      ]
     },
     "execution_count": 18,
     "metadata": {},
     "output_type": "execute_result"
    }
   ],
   "source": [
    "aw_bikebuyer.duplicated(subset=['CustomerID'], keep = 'last').value_counts()"
   ]
  },
  {
   "cell_type": "markdown",
   "metadata": {},
   "source": [
    "There are **115** duplicated values. We will remove them."
   ]
  },
  {
   "cell_type": "code",
   "execution_count": 19,
   "metadata": {
    "collapsed": true
   },
   "outputs": [
    {
     "data": {
      "text/plain": [
       "False    16404\n",
       "dtype: int64"
      ]
     },
     "execution_count": 19,
     "metadata": {},
     "output_type": "execute_result"
    }
   ],
   "source": [
    "aw_bikebuyer_updated = aw_bikebuyer.drop_duplicates(subset=['CustomerID'], keep = 'last')\n",
    "\n",
    "# Verify that the duplicated values have been removed\n",
    "aw_bikebuyer_updated.duplicated(subset=['CustomerID']).value_counts()"
   ]
  },
  {
   "cell_type": "markdown",
   "metadata": {},
   "source": [
    "We can now move forward with our analysis. We can start by finding the minimum AveMonthSpend"
   ]
  },
  {
   "cell_type": "code",
   "execution_count": 20,
   "metadata": {
    "collapsed": true
   },
   "outputs": [
    {
     "data": {
      "text/html": [
       "<div>\n",
       "<style scoped>\n",
       "    .dataframe tbody tr th:only-of-type {\n",
       "        vertical-align: middle;\n",
       "    }\n",
       "\n",
       "    .dataframe tbody tr th {\n",
       "        vertical-align: top;\n",
       "    }\n",
       "\n",
       "    .dataframe thead th {\n",
       "        text-align: right;\n",
       "    }\n",
       "</style>\n",
       "<table border=\"1\" class=\"dataframe\">\n",
       "  <thead>\n",
       "    <tr style=\"text-align: right;\">\n",
       "      <th></th>\n",
       "      <th>CustomerID</th>\n",
       "      <th>AveMonthSpend</th>\n",
       "    </tr>\n",
       "  </thead>\n",
       "  <tbody>\n",
       "    <tr>\n",
       "      <th>count</th>\n",
       "      <td>16404.000000</td>\n",
       "      <td>16404.000000</td>\n",
       "    </tr>\n",
       "    <tr>\n",
       "      <th>mean</th>\n",
       "      <td>20240.143136</td>\n",
       "      <td>72.391002</td>\n",
       "    </tr>\n",
       "    <tr>\n",
       "      <th>std</th>\n",
       "      <td>5340.370705</td>\n",
       "      <td>27.269921</td>\n",
       "    </tr>\n",
       "    <tr>\n",
       "      <th>min</th>\n",
       "      <td>11000.000000</td>\n",
       "      <td>22.000000</td>\n",
       "    </tr>\n",
       "    <tr>\n",
       "      <th>25%</th>\n",
       "      <td>15617.750000</td>\n",
       "      <td>52.000000</td>\n",
       "    </tr>\n",
       "    <tr>\n",
       "      <th>50%</th>\n",
       "      <td>20231.500000</td>\n",
       "      <td>68.000000</td>\n",
       "    </tr>\n",
       "    <tr>\n",
       "      <th>75%</th>\n",
       "      <td>24862.250000</td>\n",
       "      <td>84.000000</td>\n",
       "    </tr>\n",
       "    <tr>\n",
       "      <th>max</th>\n",
       "      <td>29482.000000</td>\n",
       "      <td>176.000000</td>\n",
       "    </tr>\n",
       "  </tbody>\n",
       "</table>\n",
       "</div>"
      ],
      "text/plain": [
       "         CustomerID  AveMonthSpend\n",
       "count  16404.000000   16404.000000\n",
       "mean   20240.143136      72.391002\n",
       "std     5340.370705      27.269921\n",
       "min    11000.000000      22.000000\n",
       "25%    15617.750000      52.000000\n",
       "50%    20231.500000      68.000000\n",
       "75%    24862.250000      84.000000\n",
       "max    29482.000000     176.000000"
      ]
     },
     "execution_count": 20,
     "metadata": {},
     "output_type": "execute_result"
    }
   ],
   "source": [
    "# Get summary statistics for aw_avupdated\n",
    "aw_avupdated.describe()"
   ]
  },
  {
   "cell_type": "markdown",
   "metadata": {},
   "source": [
    "Let's see the distribution in the BikeBuyer Column"
   ]
  },
  {
   "cell_type": "code",
   "execution_count": 21,
   "metadata": {
    "collapsed": true
   },
   "outputs": [
    {
     "name": "stdout",
     "output_type": "stream",
     "text": [
      "0: Non Bike Buyers\n",
      "1: Bike Buyers\n"
     ]
    },
    {
     "data": {
      "text/plain": [
       "0    10949\n",
       "1     5455\n",
       "Name: BikeBuyer, dtype: int64"
      ]
     },
     "execution_count": 21,
     "metadata": {},
     "output_type": "execute_result"
    }
   ],
   "source": [
    "vals = aw_bikebuyer_updated['BikeBuyer'].value_counts()\n",
    "print(\"0: Non Bike Buyers\")\n",
    "print(\"1: Bike Buyers\")\n",
    "vals"
   ]
  },
  {
   "cell_type": "code",
   "execution_count": 22,
   "metadata": {
    "collapsed": true
   },
   "outputs": [
    {
     "data": {
      "image/png": "[encoded data removed]",
      "text/plain": [
       "<Figure size 432x288 with 1 Axes>"
      ]
     },
     "metadata": {
      "needs_background": "light"
     },
     "output_type": "display_data"
    }
   ],
   "source": [
    "%matplotlib inline\n",
    "plt.bar(x=[\"Didn't buy bikes\", \"Bought bikes\"], height=vals)\n",
    "plt.ylabel(\"Number of customers\")\n",
    "plt.title(\"Distribution of BikeBuyer\")\n",
    "plt.show()"
   ]
  },
  {
   "cell_type": "markdown",
   "metadata": {},
   "source": [
    "It could be informative to rank the median YearlyIncome by Occupation. We will need to group the entries by the *Occupation* Column."
   ]
  },
  {
   "cell_type": "code",
   "execution_count": 23,
   "metadata": {
    "collapsed": true
   },
   "outputs": [
    {
     "name": "stdout",
     "output_type": "stream",
     "text": [
      "Median YearlyIncome by Occupation\n",
      "---------------------------------\n"
     ]
    },
    {
     "data": {
      "text/plain": [
       "Occupation\n",
       "Manual             21722.0\n",
       "Clerical           49481.0\n",
       "Skilled Manual     66471.5\n",
       "Professional       99058.0\n",
       "Management        118781.0\n",
       "Name: YearlyIncome, dtype: float64"
      ]
     },
     "execution_count": 23,
     "metadata": {},
     "output_type": "execute_result"
    }
   ],
   "source": [
    "# Group by 'Occupation' on 'YearlyIncome' and sort the values in ascending order\n",
    "print(\"Median YearlyIncome by Occupation\")\n",
    "print(\"---------------------------------\")\n",
    "adv_updated.groupby('Occupation')[\"YearlyIncome\"].median().sort_values()"
   ]
  },
  {
   "cell_type": "markdown",
   "metadata": {},
   "source": [
    "Regarding the the age of customers, which group of customers accounts for the highest AveMonthSpend values? Answering to this question could help us with our marketing campaign, in order to target the right customers. Let's do it!"
   ]
  },
  {
   "cell_type": "code",
   "execution_count": 24,
   "metadata": {
    "collapsed": true
   },
   "outputs": [
    {
     "data": {
      "text/plain": [
       "0    1966-04-08\n",
       "1    1965-05-14\n",
       "2    1965-08-12\n",
       "3    1968-02-15\n",
       "4    1968-08-08\n",
       "Name: BirthDate, dtype: object"
      ]
     },
     "execution_count": 24,
     "metadata": {},
     "output_type": "execute_result"
    }
   ],
   "source": [
    "# Inspect the format of BirthDate Colums\n",
    "adv_updated['BirthDate'].head()"
   ]
  },
  {
   "cell_type": "code",
   "execution_count": 25,
   "metadata": {
    "collapsed": true
   },
   "outputs": [
    {
     "name": "stderr",
     "output_type": "stream",
     "text": [
      "C:\\Users\\user\\Anaconda3\\lib\\site-packages\\ipykernel_launcher.py:2: SettingWithCopyWarning: \n",
      "A value is trying to be set on a copy of a slice from a DataFrame.\n",
      "Try using .loc[row_indexer,col_indexer] = value instead\n",
      "\n",
      "See the caveats in the documentation: http://pandas.pydata.org/pandas-docs/stable/indexing.html#indexing-view-versus-copy\n",
      "  \n"
     ]
    },
    {
     "data": {
      "text/plain": [
       "0    1966\n",
       "1    1965\n",
       "2    1965\n",
       "3    1968\n",
       "4    1968\n",
       "Name: Year_of_birth, dtype: object"
      ]
     },
     "execution_count": 25,
     "metadata": {},
     "output_type": "execute_result"
    }
   ],
   "source": [
    "# We extract the year from the BirthDate Column\n",
    "adv_updated['Year_of_birth'] = adv_updated['BirthDate'].str.split(\"-\").str[0]\n",
    "adv_updated['Year_of_birth'].head()"
   ]
  },
  {
   "cell_type": "code",
   "execution_count": 26,
   "metadata": {
    "collapsed": true
   },
   "outputs": [
    {
     "name": "stderr",
     "output_type": "stream",
     "text": [
      "C:\\Users\\user\\Anaconda3\\lib\\site-packages\\ipykernel_launcher.py:2: SettingWithCopyWarning: \n",
      "A value is trying to be set on a copy of a slice from a DataFrame.\n",
      "Try using .loc[row_indexer,col_indexer] = value instead\n",
      "\n",
      "See the caveats in the documentation: http://pandas.pydata.org/pandas-docs/stable/indexing.html#indexing-view-versus-copy\n",
      "  \n"
     ]
    },
    {
     "data": {
      "text/plain": [
       "dtype('float64')"
      ]
     },
     "execution_count": 26,
     "metadata": {},
     "output_type": "execute_result"
    }
   ],
   "source": [
    "# Convert the 'Year of birth' into a float type\n",
    "adv_updated['Year_of_birth'] = adv_updated['Year_of_birth'].astype(float)\n",
    "# Check the type of Year_of_birth column\n",
    "adv_updated['Year_of_birth'].dtype"
   ]
  },
  {
   "cell_type": "markdown",
   "metadata": {},
   "source": [
    "These datas were collected in 1998. We will calculate the age of the customers at that period."
   ]
  },
  {
   "cell_type": "code",
   "execution_count": 27,
   "metadata": {
    "collapsed": true
   },
   "outputs": [
    {
     "name": "stderr",
     "output_type": "stream",
     "text": [
      "C:\\Users\\user\\Anaconda3\\lib\\site-packages\\ipykernel_launcher.py:1: SettingWithCopyWarning: \n",
      "A value is trying to be set on a copy of a slice from a DataFrame.\n",
      "Try using .loc[row_indexer,col_indexer] = value instead\n",
      "\n",
      "See the caveats in the documentation: http://pandas.pydata.org/pandas-docs/stable/indexing.html#indexing-view-versus-copy\n",
      "  \"\"\"Entry point for launching an IPython kernel.\n"
     ]
    },
    {
     "data": {
      "text/plain": [
       "0    32.0\n",
       "1    33.0\n",
       "2    33.0\n",
       "3    30.0\n",
       "4    30.0\n",
       "Name: Age, dtype: float64"
      ]
     },
     "execution_count": 27,
     "metadata": {},
     "output_type": "execute_result"
    }
   ],
   "source": [
    "adv_updated['Age'] = 1998 - adv_updated['Year_of_birth']\n",
    "# Print the first values for the *Age* column\n",
    "adv_updated['Age'].head()"
   ]
  },
  {
   "cell_type": "markdown",
   "metadata": {},
   "source": [
    "Now we will create groups based on the age of the customers. We will have the following groups:\n",
    "* Customers under 25 years of age\n",
    "* Customers aged between 25 and 45\n",
    "* Customers between 45 and 55\n",
    "* Customers over 55 years of age"
   ]
  },
  {
   "cell_type": "code",
   "execution_count": 28,
   "metadata": {
    "collapsed": true
   },
   "outputs": [
    {
     "name": "stderr",
     "output_type": "stream",
     "text": [
      "C:\\Users\\user\\Anaconda3\\lib\\site-packages\\ipykernel_launcher.py:16: SettingWithCopyWarning: \n",
      "A value is trying to be set on a copy of a slice from a DataFrame.\n",
      "Try using .loc[row_indexer,col_indexer] = value instead\n",
      "\n",
      "See the caveats in the documentation: http://pandas.pydata.org/pandas-docs/stable/indexing.html#indexing-view-versus-copy\n",
      "  app.launch_new_instance()\n"
     ]
    },
    {
     "data": {
      "text/plain": [
       "0    Between 25 and 45\n",
       "1    Between 25 and 45\n",
       "2    Between 25 and 45\n",
       "3    Between 25 and 45\n",
       "4    Between 25 and 45\n",
       "Name: Age_group, dtype: object"
      ]
     },
     "execution_count": 28,
     "metadata": {},
     "output_type": "execute_result"
    }
   ],
   "source": [
    "def assign_age_group(x):\n",
    "    \"\"\"The function will return 'Under 25 for customers below 25 years of age. \n",
    "    It will return 'Between 25 and 45 for customers between 25 and 45 years of age. \n",
    "    With the same logic, it will return 'Between 45 and 55', and 'Over 55' for other values\n",
    "    \"\"\"\n",
    "    if x < 25:\n",
    "        return \"Under 25\"\n",
    "    elif 25 <= x < 45:\n",
    "        return \"Between 25 and 45\"\n",
    "    elif 45 <= x < 55:\n",
    "        return \"Between 45 and 55\"\n",
    "    else:\n",
    "        return \"Over 55\"\n",
    "\n",
    "# Create a new column named Age_group containing the customer's age group\n",
    "adv_updated['Age_group'] = adv_updated['Age'].apply(assign_age_group)\n",
    "adv_updated['Age_group'].head()   "
   ]
  },
  {
   "cell_type": "markdown",
   "metadata": {},
   "source": [
    "To get the category with the highest AvgMonthSpend, we need to join the dataframes adv_updated and aw_avupdated. The only columns we need from adv_updated are therefore **CustomerID, Age_group** and **Gender**."
   ]
  },
  {
   "cell_type": "code",
   "execution_count": 29,
   "metadata": {
    "collapsed": true
   },
   "outputs": [
    {
     "data": {
      "text/html": [
       "<div>\n",
       "<style scoped>\n",
       "    .dataframe tbody tr th:only-of-type {\n",
       "        vertical-align: middle;\n",
       "    }\n",
       "\n",
       "    .dataframe tbody tr th {\n",
       "        vertical-align: top;\n",
       "    }\n",
       "\n",
       "    .dataframe thead th {\n",
       "        text-align: right;\n",
       "    }\n",
       "</style>\n",
       "<table border=\"1\" class=\"dataframe\">\n",
       "  <thead>\n",
       "    <tr style=\"text-align: right;\">\n",
       "      <th></th>\n",
       "      <th>CustomerID</th>\n",
       "      <th>Age_group</th>\n",
       "      <th>Gender</th>\n",
       "      <th>AveMonthSpend</th>\n",
       "    </tr>\n",
       "  </thead>\n",
       "  <tbody>\n",
       "    <tr>\n",
       "      <th>0</th>\n",
       "      <td>11000</td>\n",
       "      <td>Between 25 and 45</td>\n",
       "      <td>M</td>\n",
       "      <td>89</td>\n",
       "    </tr>\n",
       "    <tr>\n",
       "      <th>1</th>\n",
       "      <td>11001</td>\n",
       "      <td>Between 25 and 45</td>\n",
       "      <td>M</td>\n",
       "      <td>117</td>\n",
       "    </tr>\n",
       "    <tr>\n",
       "      <th>2</th>\n",
       "      <td>11002</td>\n",
       "      <td>Between 25 and 45</td>\n",
       "      <td>M</td>\n",
       "      <td>123</td>\n",
       "    </tr>\n",
       "    <tr>\n",
       "      <th>3</th>\n",
       "      <td>11003</td>\n",
       "      <td>Between 25 and 45</td>\n",
       "      <td>F</td>\n",
       "      <td>50</td>\n",
       "    </tr>\n",
       "    <tr>\n",
       "      <th>4</th>\n",
       "      <td>11004</td>\n",
       "      <td>Between 25 and 45</td>\n",
       "      <td>F</td>\n",
       "      <td>95</td>\n",
       "    </tr>\n",
       "  </tbody>\n",
       "</table>\n",
       "</div>"
      ],
      "text/plain": [
       "   CustomerID          Age_group Gender  AveMonthSpend\n",
       "0       11000  Between 25 and 45      M             89\n",
       "1       11001  Between 25 and 45      M            117\n",
       "2       11002  Between 25 and 45      M            123\n",
       "3       11003  Between 25 and 45      F             50\n",
       "4       11004  Between 25 and 45      F             95"
      ]
     },
     "execution_count": 29,
     "metadata": {},
     "output_type": "execute_result"
    }
   ],
   "source": [
    "cols_to_keep = ['CustomerID', 'Age_group', 'Gender']\n",
    "# Join the two dataframes\n",
    "df = pd.concat([adv_updated[cols_to_keep], aw_avupdated['AveMonthSpend']], axis=1)\n",
    "df.head()"
   ]
  },
  {
   "cell_type": "code",
   "execution_count": 30,
   "metadata": {
    "collapsed": true
   },
   "outputs": [
    {
     "data": {
      "text/plain": [
       "Age_group          Gender\n",
       "Over 55            F          29258\n",
       "                   M          45626\n",
       "Under 25           F          56893\n",
       "Between 45 and 55  F          76373\n",
       "Under 25           M          88316\n",
       "Between 45 and 55  M         117316\n",
       "Between 25 and 45  F         296895\n",
       "                   M         476825\n",
       "Name: AveMonthSpend, dtype: int64"
      ]
     },
     "execution_count": 30,
     "metadata": {},
     "output_type": "execute_result"
    }
   ],
   "source": [
    "# Group by **Age_group** and **Gender** on the **AveMonthSpend** column\n",
    "best_group = df.groupby([\"Age_group\", \"Gender\"])['AveMonthSpend'].sum().sort_values()\n",
    "# print the group\n",
    "best_group"
   ]
  },
  {
   "cell_type": "markdown",
   "metadata": {},
   "source": [
    "We see that Males aged between 25 and 45 represent the highest AveMonthSpend values.\n",
    "\n",
    "What can we say about the marital status? Do married customers tend to spend more? We will apply the same group by logic. "
   ]
  },
  {
   "cell_type": "code",
   "execution_count": 31,
   "metadata": {
    "collapsed": true
   },
   "outputs": [
    {
     "name": "stdout",
     "output_type": "stream",
     "text": [
      "Median AveMonthSpend by Marital Status\n",
      "---------------------------------------\n"
     ]
    },
    {
     "data": {
      "text/plain": [
       "MaritalStatus\n",
       "S    62\n",
       "M    74\n",
       "Name: AveMonthSpend, dtype: int64"
      ]
     },
     "execution_count": 31,
     "metadata": {},
     "output_type": "execute_result"
    }
   ],
   "source": [
    "cols_to_keep2 = ['CustomerID', 'MaritalStatus']\n",
    "df = pd.concat([adv_updated[cols_to_keep2], aw_avupdated['AveMonthSpend']], axis=1)\n",
    "# Group by MaritalStatus\n",
    "marital_group = df.groupby([\"MaritalStatus\"])['AveMonthSpend'].median().sort_values()\n",
    "print(\"Median AveMonthSpend by Marital Status\")\n",
    "print(\"---------------------------------------\")\n",
    "marital_group"
   ]
  },
  {
   "cell_type": "markdown",
   "metadata": {},
   "source": [
    "The previous results show that married customers tend to spend more on average than single ones. The difference isn't quite high though.\n",
    "\n",
    "Is the average spending influenced by the number of children at home? Let's find out !"
   ]
  },
  {
   "cell_type": "code",
   "execution_count": 32,
   "metadata": {
    "collapsed": true
   },
   "outputs": [
    {
     "name": "stdout",
     "output_type": "stream",
     "text": [
      "Median AveMonthSpend by the Number of Children at Home\n",
      "-------------------------------------------------------\n"
     ]
    },
    {
     "data": {
      "text/plain": [
       "NumberChildrenAtHome\n",
       "0     57\n",
       "1     68\n",
       "2     79\n",
       "3     90\n",
       "4    101\n",
       "5    110\n",
       "Name: AveMonthSpend, dtype: int64"
      ]
     },
     "execution_count": 32,
     "metadata": {},
     "output_type": "execute_result"
    }
   ],
   "source": [
    "cols_to_keep3 = ['CustomerID', 'NumberChildrenAtHome']\n",
    "df = pd.concat([adv_updated[cols_to_keep3], aw_avupdated['AveMonthSpend']], axis=1)\n",
    "# Group by NumberChildrenAtHome\n",
    "median_children_at_home_group = df.groupby([\"NumberChildrenAtHome\"])['AveMonthSpend'].median().sort_values()\n",
    "\n",
    "print(\"Median AveMonthSpend by the Number of Children at Home\")\n",
    "print(\"-------------------------------------------------------\")\n",
    "median_children_at_home_group"
   ]
  },
  {
   "cell_type": "markdown",
   "metadata": {},
   "source": [
    "Is the YearlyIncome influencing the decision to buy or not to buy a bike?"
   ]
  },
  {
   "cell_type": "code",
   "execution_count": 33,
   "metadata": {
    "collapsed": true
   },
   "outputs": [
    {
     "name": "stdout",
     "output_type": "stream",
     "text": [
      "0: Non Buyers\n",
      "1: Bike Buyers\n",
      "--------------------------------------\n",
      "Median YearlyIncome for Bike Buyers and non Bike Buyers\n",
      "---------------------------------------\n"
     ]
    },
    {
     "data": {
      "text/plain": [
       "BikeBuyer\n",
       "0    65957\n",
       "1    96084\n",
       "Name: YearlyIncome, dtype: int64"
      ]
     },
     "execution_count": 33,
     "metadata": {},
     "output_type": "execute_result"
    }
   ],
   "source": [
    "cols_to_keep4 = ['CustomerID', 'YearlyIncome']\n",
    "df = pd.concat([adv_updated[cols_to_keep4], aw_bikebuyer_updated['BikeBuyer']], axis=1)\n",
    "# Group by BikeBuyer\n",
    "buyer_group_income = df.groupby([\"BikeBuyer\"])['YearlyIncome'].median().sort_values()\n",
    "print(\"0: Non Buyers\")\n",
    "print(\"1: Bike Buyers\")\n",
    "print(\"--------------------------------------\")\n",
    "print(\"Median YearlyIncome for Bike Buyers and non Bike Buyers\")\n",
    "print(\"---------------------------------------\")\n",
    "buyer_group_income"
   ]
  },
  {
   "cell_type": "markdown",
   "metadata": {},
   "source": [
    "The median YearlyIncome of those who buy bikes is around **46% higher** than the one of those who don't. The more someone earns, the more he/she is able to buy bike(s).\n",
    "\n",
    "Let's see the influence of the *Occupation* column on the decision to purchase a bike or not."
   ]
  },
  {
   "cell_type": "code",
   "execution_count": 34,
   "metadata": {
    "collapsed": true
   },
   "outputs": [
    {
     "name": "stdout",
     "output_type": "stream",
     "text": [
      "Number of Bike Buyers for each Occupation\n",
      "---------------------------------------\n"
     ]
    },
    {
     "data": {
      "text/plain": [
       "Occupation\n",
       "Manual             504\n",
       "Clerical           616\n",
       "Management        1016\n",
       "Skilled Manual    1135\n",
       "Professional      2184\n",
       "Name: BikeBuyer, dtype: int64"
      ]
     },
     "execution_count": 34,
     "metadata": {},
     "output_type": "execute_result"
    }
   ],
   "source": [
    "cols_to_keep5 = ['CustomerID', 'Occupation']\n",
    "df = pd.concat([adv_updated[cols_to_keep5], aw_bikebuyer_updated['BikeBuyer']], axis=1)\n",
    "# Group by Occupation\n",
    "buyer_group_occupation = df.groupby([\"Occupation\"])['BikeBuyer'].sum().sort_values()\n",
    "print(\"Number of Bike Buyers for each Occupation\")\n",
    "print(\"---------------------------------------\")\n",
    "buyer_group_occupation"
   ]
  },
  {
   "cell_type": "markdown",
   "metadata": {},
   "source": [
    "*Occupation* is clearly an important feature in order to predict if someone will buy a bike or not. **Professionals** are those who purchase the most.\n",
    "\n",
    "We can do the same work for the *Gender* Column."
   ]
  },
  {
   "cell_type": "code",
   "execution_count": 35,
   "metadata": {
    "collapsed": true
   },
   "outputs": [
    {
     "name": "stdout",
     "output_type": "stream",
     "text": [
      "Number of Bike Buyers by Gender\n",
      "---------------------------------------\n"
     ]
    },
    {
     "data": {
      "text/plain": [
       "Gender\n",
       "F    2233\n",
       "M    3222\n",
       "Name: BikeBuyer, dtype: int64"
      ]
     },
     "execution_count": 35,
     "metadata": {},
     "output_type": "execute_result"
    }
   ],
   "source": [
    "cols_to_keep6 = ['CustomerID', 'Gender']\n",
    "df = pd.concat([adv_updated[cols_to_keep6], aw_bikebuyer_updated['BikeBuyer']], axis=1)\n",
    "# Group by gender\n",
    "buyer_group_gender = df.groupby([\"Gender\"])['BikeBuyer'].sum().sort_values()\n",
    "print(\"Number of Bike Buyers by Gender\")\n",
    "print(\"---------------------------------------\")\n",
    "buyer_group_gender"
   ]
  },
  {
   "cell_type": "markdown",
   "metadata": {},
   "source": [
    "By *MaritalStatus*."
   ]
  },
  {
   "cell_type": "code",
   "execution_count": 36,
   "metadata": {
    "collapsed": true
   },
   "outputs": [
    {
     "name": "stdout",
     "output_type": "stream",
     "text": [
      "Number of Bike Buyers by Marital Status\n",
      "---------------------------------------\n"
     ]
    },
    {
     "data": {
      "text/plain": [
       "MaritalStatus\n",
       "M    2199\n",
       "S    3256\n",
       "Name: BikeBuyer, dtype: int64"
      ]
     },
     "execution_count": 36,
     "metadata": {},
     "output_type": "execute_result"
    }
   ],
   "source": [
    "cols_to_keep7 = ['CustomerID', 'MaritalStatus']\n",
    "df = pd.concat([adv_updated[cols_to_keep7], aw_bikebuyer_updated['BikeBuyer']], axis=1)\n",
    "# Group by MaritalStatus\n",
    "buyer_group_marital = df.groupby([\"MaritalStatus\"])['BikeBuyer'].sum().sort_values()\n",
    "print(\"Number of Bike Buyers by Marital Status\")\n",
    "print(\"---------------------------------------\")\n",
    "buyer_group_marital"
   ]
  },
  {
   "cell_type": "markdown",
   "metadata": {},
   "source": [
    "By *NumberChildrenAtHome*."
   ]
  },
  {
   "cell_type": "code",
   "execution_count": 37,
   "metadata": {
    "collapsed": true
   },
   "outputs": [
    {
     "name": "stdout",
     "output_type": "stream",
     "text": [
      "Number of Bike Buyers by NumberChildrenAtHome\n",
      "---------------------------------------\n"
     ]
    },
    {
     "data": {
      "text/plain": [
       "NumberChildrenAtHome\n",
       "0    1929\n",
       "1     540\n",
       "2     859\n",
       "3     734\n",
       "4     684\n",
       "5     709\n",
       "Name: BikeBuyer, dtype: int64"
      ]
     },
     "execution_count": 37,
     "metadata": {},
     "output_type": "execute_result"
    }
   ],
   "source": [
    "cols_to_keep8 = ['CustomerID', 'NumberChildrenAtHome']\n",
    "df = pd.concat([adv_updated[cols_to_keep8], aw_bikebuyer_updated['BikeBuyer']], axis=1)\n",
    "# Group by NumberChildrenAtHome\n",
    "buyer_group_numchildhome = df.groupby([\"NumberChildrenAtHome\"])['BikeBuyer'].sum().sort_index()\n",
    "print(\"Number of Bike Buyers by NumberChildrenAtHome\")\n",
    "print(\"---------------------------------------\")\n",
    "buyer_group_numchildhome"
   ]
  },
  {
   "cell_type": "markdown",
   "metadata": {},
   "source": [
    "We need to encode the categorical variables to be able to use the machine learning algorithms. "
   ]
  },
  {
   "cell_type": "code",
   "execution_count": 38,
   "metadata": {},
   "outputs": [
    {
     "name": "stdout",
     "output_type": "stream",
     "text": [
      "(16404, 14)\n"
     ]
    },
    {
     "name": "stderr",
     "output_type": "stream",
     "text": [
      "C:\\Users\\user\\Anaconda3\\lib\\site-packages\\sklearn\\preprocessing\\_encoders.py:371: FutureWarning: The handling of integer data will change in version 0.22. Currently, the categories are determined based on the range [0, max(values)], while in the future they will be determined based on the unique values.\n",
      "If you want the future behaviour and silence this warning, you can specify \"categories='auto'\".\n",
      "In case you used a LabelEncoder before this OneHotEncoder to convert the categories to integers, then you can now use the OneHotEncoder directly.\n",
      "  warnings.warn(msg, FutureWarning)\n",
      "C:\\Users\\user\\Anaconda3\\lib\\site-packages\\sklearn\\preprocessing\\_encoders.py:371: FutureWarning: The handling of integer data will change in version 0.22. Currently, the categories are determined based on the range [0, max(values)], while in the future they will be determined based on the unique values.\n",
      "If you want the future behaviour and silence this warning, you can specify \"categories='auto'\".\n",
      "In case you used a LabelEncoder before this OneHotEncoder to convert the categories to integers, then you can now use the OneHotEncoder directly.\n",
      "  warnings.warn(msg, FutureWarning)\n",
      "C:\\Users\\user\\Anaconda3\\lib\\site-packages\\sklearn\\preprocessing\\_encoders.py:371: FutureWarning: The handling of integer data will change in version 0.22. Currently, the categories are determined based on the range [0, max(values)], while in the future they will be determined based on the unique values.\n",
      "If you want the future behaviour and silence this warning, you can specify \"categories='auto'\".\n",
      "In case you used a LabelEncoder before this OneHotEncoder to convert the categories to integers, then you can now use the OneHotEncoder directly.\n",
      "  warnings.warn(msg, FutureWarning)\n",
      "C:\\Users\\user\\Anaconda3\\lib\\site-packages\\sklearn\\preprocessing\\_encoders.py:371: FutureWarning: The handling of integer data will change in version 0.22. Currently, the categories are determined based on the range [0, max(values)], while in the future they will be determined based on the unique values.\n",
      "If you want the future behaviour and silence this warning, you can specify \"categories='auto'\".\n",
      "In case you used a LabelEncoder before this OneHotEncoder to convert the categories to integers, then you can now use the OneHotEncoder directly.\n",
      "  warnings.warn(msg, FutureWarning)\n"
     ]
    }
   ],
   "source": [
    "# Create a function that will encode the categorical variables\n",
    "\n",
    "def encode_string(cat_features):\n",
    "    ## First encode the strings to numeric categories\n",
    "    enc = preprocessing.LabelEncoder()\n",
    "    enc.fit(cat_features)\n",
    "    enc_cat_features = enc.transform(cat_features)\n",
    "    ## Now, apply one hot encoding\n",
    "    ohe = preprocessing.OneHotEncoder()\n",
    "    encoded = ohe.fit(enc_cat_features.reshape(-1,1))\n",
    "    return encoded.transform(enc_cat_features.reshape(-1,1)).toarray()\n",
    "\n",
    "# Specify the name of 3 of the 4 categorical variables we have\n",
    "categorical_columns = ['Gender', 'Occupation', 'Education']\n",
    "\n",
    "# Create a variable named Features. Initialize this variable with the 4th categorical and encoded variable\n",
    "Features = encode_string(adv_updated['MaritalStatus'])\n",
    "# Add the other encoded categorical variables to Features\n",
    "for col in categorical_columns:\n",
    "    temp = encode_string(adv_updated[col])\n",
    "    Features = np.concatenate([Features, temp], axis = 1)\n",
    "\n",
    "print(Features.shape)"
   ]
  },
  {
   "cell_type": "code",
   "execution_count": 39,
   "metadata": {},
   "outputs": [
    {
     "name": "stdout",
     "output_type": "stream",
     "text": [
      "(16404, 18)\n"
     ]
    }
   ],
   "source": [
    "# Specify the numeric columns\n",
    "num_cols = ['HomeOwnerFlag', 'YearlyIncome', 'NumberChildrenAtHome', 'Age']\n",
    "# We add the numeric columns to the Features\n",
    "\n",
    "Features = np.concatenate([Features, np.array(adv_updated[num_cols])], axis=1)\n",
    "print(Features.shape)"
   ]
  },
  {
   "cell_type": "markdown",
   "metadata": {},
   "source": [
    "# Model Definition"
   ]
  },
  {
   "cell_type": "markdown",
   "metadata": {},
   "source": [
    "## Regression Model to Predict Customer Purchasing Behavior.\n",
    "\n",
    "Now we will create a regression model that predicts the average monthly spend of new customers. For now, we will keep the same feaure variables, and just change the target variable.\n",
    "\n",
    "We will use: \n",
    "\n",
    "- A Regression Linear Model from sklearn\n",
    "- A Neural Network from keras"
   ]
  },
  {
   "cell_type": "markdown",
   "metadata": {},
   "source": [
    "## Selection of Model Performance Indicator\n",
    "\n",
    "For this regression task, we will use the **Mean Squared Error** as model performance indicator. We will use it because it tells how close a regression line is to a set of points. Besides, the MSE gives more weight to larger differences (due to the squared part). Since we want to penalize large differences, the MSE looks appropriate."
   ]
  },
  {
   "cell_type": "code",
   "execution_count": 42,
   "metadata": {},
   "outputs": [],
   "source": [
    "from sklearn.metrics import mean_squared_error"
   ]
  },
  {
   "cell_type": "code",
   "execution_count": 43,
   "metadata": {},
   "outputs": [],
   "source": [
    "# Genererate the target variable y_\n",
    "y2 = aw_avupdated['AveMonthSpend']\n",
    "# Keep the same feature variable X\n",
    "\n",
    "X_train2, X_valid2, y_train2, y_valid2 = train_test_split(Features, y2, train_size=0.75, test_size=0.25, random_state=0)\n",
    "scaler2 = preprocessing.StandardScaler().fit(X_train2[:, 15:])\n",
    "X_train2[:, 15:] = scaler2.transform(X_train2[:, 15:])\n",
    "X_valid2[:, 15:] = scaler2.transform(X_valid2[:, 15:])"
   ]
  },
  {
   "cell_type": "markdown",
   "metadata": {},
   "source": [
    "### Machine Learning Model from sklearn (Linear Model)"
   ]
  },
  {
   "cell_type": "code",
   "execution_count": 44,
   "metadata": {
    "collapsed": true
   },
   "outputs": [
    {
     "data": {
      "text/plain": [
       "LinearRegression(copy_X=True, fit_intercept=False, n_jobs=None,\n",
       "         normalize=False)"
      ]
     },
     "execution_count": 44,
     "metadata": {},
     "output_type": "execute_result"
    }
   ],
   "source": [
    "# Define and fit the linear regression model\n",
    "lin_mod = linear_model.LinearRegression(fit_intercept = False)\n",
    "lin_mod.fit(X_train2, y_train2)"
   ]
  },
  {
   "cell_type": "code",
   "execution_count": 45,
   "metadata": {},
   "outputs": [],
   "source": [
    "y_hat = lin_mod.predict(X_valid2)"
   ]
  },
  {
   "cell_type": "code",
   "execution_count": 46,
   "metadata": {},
   "outputs": [
    {
     "name": "stdout",
     "output_type": "stream",
     "text": [
      "MSE of the Linear Regression Model: 38.72407571765726\n"
     ]
    }
   ],
   "source": [
    "# Evaluate the model (get the MSE)\n",
    "\n",
    "print(\"MSE of the Linear Regression Model: {}\".format(mean_squared_error(y_hat, y_valid2)))"
   ]
  },
  {
   "cell_type": "markdown",
   "metadata": {},
   "source": [
    "### Deep Learning Model from Keras"
   ]
  },
  {
   "cell_type": "code",
   "execution_count": 47,
   "metadata": {},
   "outputs": [
    {
     "name": "stderr",
     "output_type": "stream",
     "text": [
      "Using TensorFlow backend.\n"
     ]
    }
   ],
   "source": [
    "import keras\n",
    "\n",
    "from keras.models import Sequential\n",
    "from keras.layers import Dense"
   ]
  },
  {
   "cell_type": "code",
   "execution_count": 60,
   "metadata": {},
   "outputs": [
    {
     "name": "stdout",
     "output_type": "stream",
     "text": [
      "Epoch 1/10\n",
      "12303/12303 [==============================] - 1s 55us/step - loss: 1759.7316\n",
      "Epoch 2/10\n",
      "12303/12303 [==============================] - 0s 35us/step - loss: 47.9815\n",
      "Epoch 3/10\n",
      "12303/12303 [==============================] - 0s 33us/step - loss: 33.5314\n",
      "Epoch 4/10\n",
      "12303/12303 [==============================] - 0s 31us/step - loss: 27.2264\n",
      "Epoch 5/10\n",
      "12303/12303 [==============================] - 0s 32us/step - loss: 22.1564\n",
      "Epoch 6/10\n",
      "12303/12303 [==============================] - 0s 32us/step - loss: 18.6525\n",
      "Epoch 7/10\n",
      "12303/12303 [==============================] - 0s 32us/step - loss: 16.8472\n",
      "Epoch 8/10\n",
      "12303/12303 [==============================] - 0s 34us/step - loss: 15.8097\n",
      "Epoch 9/10\n",
      "12303/12303 [==============================] - 0s 33us/step - loss: 15.2166\n",
      "Epoch 10/10\n",
      "12303/12303 [==============================] - 1s 48us/step - loss: 14.6733\n"
     ]
    }
   ],
   "source": [
    "# define the model\n",
    "model = Sequential()\n",
    "model.add(Dense(units=32, activation='relu', input_dim=X_train2.shape[1]))\n",
    "model.add(Dense(units=32, activation='relu'))\n",
    "model.add(Dense(units=1))\n",
    "\n",
    "# compile the model\n",
    "model.compile(loss='mean_squared_error', optimizer='adam')\n",
    "history = model.fit(X_train2, y_train2, epochs=10, batch_size = 32)"
   ]
  },
  {
   "cell_type": "code",
   "execution_count": 61,
   "metadata": {
    "scrolled": true
   },
   "outputs": [
    {
     "name": "stdout",
     "output_type": "stream",
     "text": [
      "MSE of Neural Network Model: 14.07499619750643\n"
     ]
    }
   ],
   "source": [
    "nn_pred = model.predict(X_valid2)\n",
    "print(\"MSE of Neural Network Model: {}\".format(mean_squared_error(nn_pred, y_valid2)))"
   ]
  },
  {
   "cell_type": "code",
   "execution_count": 66,
   "metadata": {},
   "outputs": [
    {
     "name": "stdout",
     "output_type": "stream",
     "text": [
      "[1759.7316114240707, 47.98149278940422, 33.53136890069998, 27.226417747540346, 22.15639879815338, 18.65251958962234, 16.84715011070814, 15.809744512202498, 15.216645981445163, 14.673321968344647]\n"
     ]
    }
   ],
   "source": [
    "print(history.history['loss'])"
   ]
  },
  {
   "cell_type": "code",
   "execution_count": 68,
   "metadata": {},
   "outputs": [
    {
     "data": {
      "image/png": "[encoded data removed]",
      "text/plain": [
       "<Figure size 432x288 with 1 Axes>"
      ]
     },
     "metadata": {
      "needs_background": "light"
     },
     "output_type": "display_data"
    }
   ],
   "source": [
    "x = range(10)\n",
    "y = history.history['loss']\n",
    "plt.plot(range(10), history.history['loss'])\n",
    "plt.xlabel(\"Epochs\")\n",
    "plt.ylabel(\"Loss(MSE)\")\n",
    "plt.title(\" Variation of Loss (Model Performance) with Epochs \")\n",
    "plt.show()"
   ]
  },
  {
   "cell_type": "markdown",
   "metadata": {},
   "source": [
    "We have built two models. We built one classic Machine Learning model which was a Linear Regression (lin_mod) using scikit-learn, and one Deep Learning Model (model) using keras. "
   ]
  },
  {
   "cell_type": "markdown",
   "metadata": {},
   "source": [
    "# Model Deployment"
   ]
  },
  {
   "cell_type": "code",
   "execution_count": 69,
   "metadata": {},
   "outputs": [
    {
     "name": "stdout",
     "output_type": "stream",
     "text": [
      "Machine Learning Model available: lin_mod (linear Regression)\n"
     ]
    },
    {
     "data": {
      "text/plain": [
       "LinearRegression(copy_X=True, fit_intercept=False, n_jobs=None,\n",
       "         normalize=False)"
      ]
     },
     "execution_count": 69,
     "metadata": {},
     "output_type": "execute_result"
    }
   ],
   "source": [
    "print(\"Machine Learning Model available: lin_mod (linear Regression)\")\n",
    "print(\"=============================================================\")\n",
    "lin_mod"
   ]
  },
  {
   "cell_type": "code",
   "execution_count": 73,
   "metadata": {},
   "outputs": [
    {
     "name": "stdout",
     "output_type": "stream",
     "text": [
      "Deep Learning Model available: model (Regression)\n",
      "=============================================================\n",
      "_________________________________________________________________\n",
      "Layer (type)                 Output Shape              Param #   \n",
      "=================================================================\n",
      "dense_4 (Dense)              (None, 32)                608       \n",
      "_________________________________________________________________\n",
      "dense_5 (Dense)              (None, 32)                1056      \n",
      "_________________________________________________________________\n",
      "dense_6 (Dense)              (None, 1)                 33        \n",
      "=================================================================\n",
      "Total params: 1,697\n",
      "Trainable params: 1,697\n",
      "Non-trainable params: 0\n",
      "_________________________________________________________________\n",
      "None\n"
     ]
    }
   ],
   "source": [
    "print(\"Deep Learning Model available: model (Regression)\")\n",
    "print(\"=============================================================\")\n",
    "print(model.summary())"
   ]
  },
  {
   "cell_type": "markdown",
   "metadata": {},
   "source": [
    "# Question defined in the usecase: Can we predict the average monthly spendings of new customers?\n",
    "\n",
    "Using the Features defined in the notebook, we see that he can answer this question and predict the average monthy spendings of new customers, using lin_mod or model (preferred model)"
   ]
  }
 ],
 "metadata": {
  "kernelspec": {
   "display_name": "Python 3",
   "language": "python",
   "name": "python3"
  },
  "language_info": {
   "codemirror_mode": {
    "name": "ipython",
    "version": 3
   },
   "file_extension": ".py",
   "mimetype": "text/x-python",
   "name": "python",
   "nbconvert_exporter": "python",
   "pygments_lexer": "ipython3",
   "version": "3.7.3"
  }
 },
 "nbformat": 4,
 "nbformat_minor": 2
}
